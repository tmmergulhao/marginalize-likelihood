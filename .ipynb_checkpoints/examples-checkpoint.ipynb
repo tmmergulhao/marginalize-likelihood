{
 "cells": [
  {
   "cell_type": "markdown",
   "metadata": {},
   "source": [
    "# Loading libraries, data and a model"
   ]
  },
  {
   "cell_type": "code",
   "execution_count": 1,
   "metadata": {},
   "outputs": [],
   "source": [
    "import numpy as np\n",
    "import matplotlib.pyplot as plt\n",
    "from scipy.interpolate import InterpolatedUnivariateSpline\n",
    "%matplotlib inline\n",
    "import MCMC as MCMC_toolkit\n",
    "import emcee\n",
    "from tqdm import tqdm\n",
    "import marginalise_likelihood as margLIN\n",
    "from getdist import MCSamples, plots\n",
    "\n",
    "settings = {\n",
    "'ignore_rows':0.5,\n",
    "'fine_bins_2D':1000, \n",
    "'smooth_scale_1D':0.5,\n",
    "'smooth_scale_2D':0.5\n",
    "}"
   ]
  },
  {
   "cell_type": "code",
   "execution_count": 2,
   "metadata": {},
   "outputs": [],
   "source": [
    "WALKERS_PER_PARAMETER = 7\n",
    "\n",
    "#Info for convergence - smoothAMP\n",
    "gelman_rubins = {}\n",
    "gelman_rubins['N'] = 4 #Number of parallel chains\n",
    "gelman_rubins['epsilon'] = 0.0005 #Threshold for convergence\n",
    "gelman_rubins['min_length'] = 2000 #Minimum length. All convergence tests are done after this \n",
    "gelman_rubins['convergence_steps'] = 1000 #Convergence condition is computed every this step values\n",
    "gelman_rubins['initial'] = 'uniform_prior' #Method to set the walkers initial position"
   ]
  },
  {
   "cell_type": "markdown",
   "metadata": {},
   "source": [
    "# Ideas and definitions"
   ]
  },
  {
   "cell_type": "markdown",
   "metadata": {},
   "source": [
    "The module marginalise_likelihood performs an analytical marginalization over linear parameters appearing in the Likelihood. If the Likelihood is linear in some parameters, it means that the theoretical model can be split in the following way:\n",
    "\n",
    "$$\n",
    "P^{(\\rm t)} = P^{\\rm t}_{\\rm const}(\\{c_i\\}) + \\sum_i \\theta_i P^{\\rm t}_{lin, i}(\\{c_i\\}) \\;,\n",
    "$$\n",
    "\n",
    "where $C$ is the covariance matrix and $\\{\\theta_i\\}$, $\\{c_i\\}$ are the linear and non-linear parameters contributing to the model, respectively. By plugging this into the expression for the Likelihood:\n",
    "\n",
    "$$\n",
    "\\mathcal{L}(\\mathrm{data}|\\{\\theta_i\\ , c_i\\}) = \\mathrm{Exp} \\left[ -\\frac{1}{2} \\left(P^{\\mathrm d} - P^{\\mathrm t}\\right) \\cdot C^{-1}\\left(P^{\\mathrm d} - P^{\\mathrm t}\\right) ^{T}\\right]\\;,\n",
    "$$\n",
    "\n",
    "where $P^{\\mathrm d}$ is the data array. After some algebra (see notes), one can rewrite the above expression as:\n",
    "\n",
    "$$\n",
    "\\mathcal{L}(\\mathrm{data}|\\{\\theta_i\\ , c_i\\}) = \\mathrm{Exp} \\left[-\\frac{1}{2}\\sum_{i,j} \\theta_i \\mathbf{\\mathcal{A} }_{ij} \\theta_j + \\sum_i \\theta_i \\mathbf{\\mathcal{B}}_i + \\mathbf{\\mathcal{C}}\\right]\\;,\n",
    "$$\n",
    "where we introduced $\\star$ to represent the quadratic form $A\\star B = A\\cdot C^{-1} B^{T}$. The matrices above are defined as:\n",
    "$$\n",
    "\\begin{align}\n",
    "\\mathbf{\\mathcal{A}}_{ij} &=& P^{\\rm t}_{lin, i}\\star P^{\\rm t}_{lin, j}\\;,\\\\\n",
    "\\mathbf{\\mathcal{B}}_{i}  &=& -\\frac{1}{2} \\left(P^{\\rm t}_{\\mathrm{const}}\\star P^{\\rm t}_{\\mathrm{lin},i} - P^{\\rm d}\\star P^{\\rm t}_{\\mathrm{lin},i} - P^{\\rm t}_{\\mathrm{lin},i}\\star P^{\\rm d} + P^{\\rm t}_{\\mathrm{lin},i}\\star P^{\\rm t}_{\\mathrm{const}} \\right)\\;,\\\\\n",
    "\\mathbf{\\mathcal{C}} &=& -\\frac{1}{2} \\left( P^{\\rm d}\\star P^{\\rm d} - P^{\\rm d}\\star P^{\\rm t}_{\\mathrm{const}} - P^{\\rm t}_{\\mathrm{const}}\\star P^{\\rm d} + P^{\\rm t}_{\\mathrm{const}}\\star P^{\\rm t}_{\\mathrm{const}} \\right)\\;.\n",
    "\\end{align}\n",
    "$$\n",
    "The integral over $\\theta_i$  is now straightforward and will produce the marginalised Likelihood, $\\mathcal{L}(\\mathrm{data}|\\{c_i\\})$. The result is:\n",
    "$$\n",
    "\\mathcal{L}(\\mathrm{data}|\\{c_i\\}) = \\int d\\vec{\\theta}\\mathrm{Exp} \\left[-\\frac{1}{2}\\sum_{i,j} \\theta_i \\mathbf{\\mathcal{A} }_{ij} \\theta_j + \\sum_i \\theta_i \\mathbf{\\mathcal{B}}_i + \\mathbf{\\mathcal{C}}\\right] = (2\\pi)^{n} \\mathrm{Exp}\\left[\\frac{1}{2} \\mathbf{\\mathcal{B}}\\cdot\\mathbf{\\mathcal{A}}^{-1}\\cdot\\mathbf{\\mathcal{B}} + \\mathbf{\\mathcal{C}} - \\frac{1}{2}\\log\\det \\mathbf{\\mathcal{A}} \\right]\\;.\n",
    "$$\n",
    "Using the Likelihood above it is possible to marginalize over fewer parameters, which can improve the sampling speed and convergence. In what follows, I will show how it can be used in practice.\n"
   ]
  },
  {
   "cell_type": "markdown",
   "metadata": {},
   "source": [
    "# Example 1 - Galaxy Power Spectrum"
   ]
  },
  {
   "cell_type": "markdown",
   "metadata": {},
   "source": [
    "A common template used in Cosmology to model the smooth part of the galaxy power spectrum is:"
   ]
  },
  {
   "cell_type": "markdown",
   "metadata": {},
   "source": [
    "$$\n",
    "P_g^{\\mathrm{nw}}(k)=B^2 P^{\\mathrm{nw}}(k) \\frac{1}{\\left(1+k^2 \\Sigma_s^2 / 2\\right)^2}+\\frac{a_1}{k^3}+\\frac{a_2}{k^2}+\\frac{a_3}{k}+a_4+a_5 k^2\n",
    "$$"
   ]
  },
  {
   "cell_type": "markdown",
   "metadata": {},
   "source": [
    "The $P^{\\rm nw}(k)$ is a pre-calculated curve, which I will load. Without marginalizing the parameters, we would need to sample \n",
    "$$\n",
    "\\left\\{B, \\Sigma_s, a_1, a_2, a_3, a_4, a_5\\right\\}\\;.\n",
    "$$\n",
    "However, since the $a_i's$ appears linearly in the model, they can be marginalized over. What we will do is generate some fake data and try to recover $B$ and $\\Sigma_s$ in two ways. The first way will be using the linear marginalization code, in which we remove the $a_i's$ terms from the sampling. In the second case, we try to sample the whole set of parameters."
   ]
  },
  {
   "cell_type": "markdown",
   "metadata": {},
   "source": [
    "## Generating data and implementing the model"
   ]
  },
  {
   "cell_type": "code",
   "execution_count": 3,
   "metadata": {},
   "outputs": [],
   "source": [
    "def SmoothAmplitude(params, args, h = 0.676, kh_norm = 0.005, mean_P0 = 13622):\n",
    "    \n",
    "    #Unpack the parameters\n",
    "    B, sigma_s, a0 ,a1 , a2, a3, a4 = params\n",
    "    \n",
    "    #Load external info\n",
    "    kh, ps_smooth_func = args\n",
    "    \n",
    "    #Values to normalize the broadband parameters\n",
    "    k_norm = kh_norm/h # [h/Mpc]\n",
    "\n",
    "    #Non-wiggle linear\n",
    "    P_nw_linear = ps_smooth_func(kh)\n",
    "\n",
    "    #Compute the velocity damping term\n",
    "    F_fog = 1.0/(1.0 + 0.5*kh**2*sigma_s**2)**2\n",
    "    \n",
    "    #Theory - Broadband\n",
    "    invk = k_norm/kh\n",
    "    theory_broadband = a0*invk**3 + a1*invk**2 + a2*invk + a3 + a4*(kh/k_norm)**2\n",
    "\n",
    "    #Compute the full non-wiggle part\n",
    "    P_nw = B**2*P_nw_linear*F_fog + theory_broadband*mean_P0**2\n",
    "\n",
    "    return P_nw"
   ]
  },
  {
   "cell_type": "code",
   "execution_count": 4,
   "metadata": {},
   "outputs": [],
   "source": [
    "#Loading pre-calculated data\n",
    "power_spec = np.loadtxt(\"BOSS_z1_new.txt\")\n",
    "kh, ps_smooth_points, O_lin_points, ps_lin_points = power_spec[:,0], power_spec[:,1],\\\n",
    "power_spec[:,2],power_spec[:,3]\n",
    "\n",
    "ps_smooth_func = InterpolatedUnivariateSpline(kh, ps_smooth_points, ext = 3)\n",
    "\n",
    "#Generating some fake data\n",
    "dk = 0.005\n",
    "k_array = np.arange(0.005,0.2,dk)\n",
    "B = 5\n",
    "sigma_s = 10\n",
    "a0        = 1e-7\n",
    "a1        = 1e-7\n",
    "a2        = 1e-4\n",
    "a3        = 1e-4\n",
    "a4        = 1e-9\n",
    "fake_data = SmoothAmplitude([B, sigma_s, a0 ,a1 , a2, a3, a4], args = (k_array, ps_smooth_func))\n",
    "\n",
    "#Generating a Gaussian covariance matrix\n",
    "L = 2000 # Mpc/h\n",
    "vf = (2.0*np.pi)**3/L**3\n",
    "Nk = 0.5*(4.0*np.pi*k_array**2*dk/vf)\n",
    "nbar = 1e-4\n",
    "\n",
    "N_A = 1 + 1/(nbar*fake_data)\n",
    "COV_diag = 1/Nk*2*fake_data**2*N_A**2\n",
    "fake_COV = np.zeros((len(k_array), len(k_array)))\n",
    "np.fill_diagonal(fake_COV,COV_diag)"
   ]
  },
  {
   "cell_type": "code",
   "execution_count": 5,
   "metadata": {},
   "outputs": [
    {
     "data": {
      "text/plain": [
       "Text(0, 0.5, '$k\\\\times P(k)$ $\\\\mathrm{[Mpc/h]}^2$')"
      ]
     },
     "execution_count": 5,
     "metadata": {},
     "output_type": "execute_result"
    },
    {
     "data": {
      "image/png": "[encoded data removed]",
      "text/plain": [
       "<Figure size 864x504 with 1 Axes>"
      ]
     },
     "metadata": {
      "needs_background": "light"
     },
     "output_type": "display_data"
    }
   ],
   "source": [
    "plt.figure(figsize = (12,7))\n",
    "plt.errorbar(k_array, k_array*fake_data, yerr = k_array*np.diag(fake_COV)**0.5, label = \"DATA\", marker = \"o\")\n",
    "plt.xlim((0.005,0.2))\n",
    "plt.legend()\n",
    "plt.xlabel(r\"$k$ [h/Mpc]\",size = 20)\n",
    "plt.ylabel(r\"$k\\times P(k)$ $\\mathrm{[Mpc/h]}^2$\",size = 20)"
   ]
  },
  {
   "cell_type": "markdown",
   "metadata": {},
   "source": [
    "# Sampling the marginalised posterior"
   ]
  },
  {
   "cell_type": "markdown",
   "metadata": {},
   "source": [
    "Here is how you can define the marginalised posterior explicitly:"
   ]
  },
  {
   "cell_type": "markdown",
   "metadata": {},
   "source": [
    "$$\n",
    "\\mathcal{L}(\\mathrm{data}|\\{c_i\\}) = \\int d\\vec{\\theta}\\mathrm{Exp} \\left[-\\frac{1}{2}\\sum_{i,j} \\theta_i \\mathbf{\\mathcal{A} }_{ij} \\theta_j + \\sum_i \\theta_i \\mathbf{\\mathcal{B}}_i + \\mathbf{\\mathcal{C}}\\right] = (2\\pi)^{n} \\mathrm{Exp}\\left[\\frac{1}{2} \\mathbf{\\mathcal{B}}\\cdot\\mathbf{\\mathcal{A}}^{-1}\\cdot\\mathbf{\\mathcal{B}} - \\frac{1}{2}\\log\\det \\mathbf{\\mathcal{A}}  + \\mathbf{\\mathcal{C}} \\right]\\;.\n",
    "$$"
   ]
  },
  {
   "cell_type": "code",
   "execution_count": 6,
   "metadata": {},
   "outputs": [],
   "source": [
    "def loglikelihood_marginalised(theta, theta_marginalised,flat_prior, linear_indices, \n",
    "                               model, data, inv_cov, theory_args = None):\n",
    "    \"\"\"Compute the marginalised likelihood\n",
    "\n",
    "    Args:\n",
    "        theta (list): A list with the remaining free parameters in the model. These paramters change\n",
    "        on every step of the MCMC analysis.\n",
    "        \n",
    "        theta_marginalised (list): Some exemplary values for the linear parameters you marginalised\n",
    "        . They are used to get the constant and linear part on every step. These parameters are fi-\n",
    "        xed, they do not vary on every step of the MCMC analysis.\n",
    "        \n",
    "        flat_prior (function): The flat prior for the model.\n",
    "        \n",
    "        linear_indices (list): A list with the indices where the linear parameters you are margina-\n",
    "        lising occur in the total param array\n",
    "       \n",
    "        model (function): The theoretical model being used. It must be implemented such that its in-\n",
    "        puts are of the form: model(params, args(optional)).\n",
    "        \n",
    "        data (np.array): The data vector.\n",
    "        \n",
    "        inv_cov (np.array): The inverse of the covariance matrix\n",
    "        \n",
    "        theory_args (_type_, optional): _description_. Defaults to None.\n",
    "\n",
    "    Returns:\n",
    "        float: The output for the marginalised log likelihood\n",
    "    \"\"\"\n",
    "     #Apply a flat prior to some parameters\n",
    "    if not(flat_prior(theta)):\n",
    "        return(-np.inf)\n",
    "    \n",
    "    params = np.hstack((theta, theta_marginalised))\n",
    "    \n",
    "    #Get linear terms\n",
    "    linear_operators_list = margLIN.get_lin_operator_list(model, params, linear_indices, args = theory_args)\n",
    "    \n",
    "    #Get the constant part\n",
    "    theory_const = margLIN.get_const_part(model, params, linear_indices, args = theory_args)\n",
    "    \n",
    "    #Compute the matrices\n",
    "    A_ij = margLIN.compute_Aij(linear_operators_list, inv_cov)\n",
    "    \n",
    "    B_i  = margLIN.compute_Bi(linear_operators_list, theory_const, data, inv_cov)\n",
    "    \n",
    "    C    = margLIN.compute_C(theory_const, data, inv_cov)\n",
    "    \n",
    "    #Get the inverse of A\n",
    "    invAij = np.linalg.inv(A_ij)\n",
    "    \n",
    "    #Get the determinant of A\n",
    "    detAij = np.linalg.det(A_ij)\n",
    "    \n",
    "    #Compute the marginalised likelihood\n",
    "    term1 = margLIN.QuadraticForm(B_i, B_i, invAij); term2 = np.log(detAij)\n",
    "    return (0.5*term1 - 0.5*term2 + C)[0][0]"
   ]
  },
  {
   "cell_type": "markdown",
   "metadata": {},
   "source": [
    "Notice that we have although we are marginalizing over some parameters, the code still require some value for these parameters. You can chose any value within their prior. It is used only for examplary calculations. We also need to give as input the indices of these parameters in the total parameter space"
   ]
  },
  {
   "cell_type": "code",
   "execution_count": 7,
   "metadata": {
    "code_folding": []
   },
   "outputs": [],
   "source": [
    "#Args for the marginalised likelihood\n",
    "theta_marginalised = [1e-5, 1e-5, 1e-5, 1e-5, 1e-5] #Random values for the parameters I will marginalise over\n",
    "linear_indices = [2,3,4,5,6] #Their position in the total parameter vector"
   ]
  },
  {
   "cell_type": "code",
   "execution_count": 8,
   "metadata": {},
   "outputs": [
    {
     "name": "stdout",
     "output_type": "stream",
     "text": [
      "Using  marginalised_smoothAMP file\n"
     ]
    }
   ],
   "source": [
    "#Smooth AMP sampler\n",
    "handle_smooth_amp = 'marginalised_smoothAMP' #Handle to save the chains\n",
    "prior_name_smoothAMP = 'marginalised_smoothAMP'\n",
    "MCMC_smoothAMP = MCMC_toolkit.MCMC(1,prior_name_smoothAMP)\n",
    "MCMC_smoothAMP.set_walkers(MCMC_smoothAMP.ndim*WALKERS_PER_PARAMETER)\n",
    "flat_prior_smoothAMP = MCMC_smoothAMP.in_prior"
   ]
  },
  {
   "cell_type": "code",
   "execution_count": 9,
   "metadata": {},
   "outputs": [],
   "source": [
    "#Args used to compute the model\n",
    "theory_args = (k_array, ps_smooth_func)\n",
    "\n",
    "#Args for the loglikelihood\n",
    "loglikelihood_args = (theta_marginalised, flat_prior_smoothAMP, linear_indices, \n",
    "                      SmoothAmplitude, fake_data, np.linalg.inv(fake_COV), theory_args)"
   ]
  },
  {
   "cell_type": "code",
   "execution_count": 10,
   "metadata": {
    "scrolled": false
   },
   "outputs": [
    {
     "name": "stdout",
     "output_type": "stream",
     "text": [
      "You are considering 2000 as the minimum lenght for the chain\n",
      "Convergence test happens every 1000 steps\n",
      "Number of walkers: 14\n",
      "Number of Parameters: 2\n",
      "Number of parallel chains: 4\n",
      "*******************************Preparing chain 0********************************\n",
      "Positions for the chain 0\n",
      "Using uniform prior\n",
      "\n",
      "\n",
      "For param B :\n",
      "Minimum: 2.26 | Maximum: 9.69\n",
      "\n",
      "For param sigma_s :\n",
      "Minimum: 0.24 | Maximum: 34.36\n",
      "\n",
      "Go!\n"
     ]
    },
    {
     "name": "stderr",
     "output_type": "stream",
     "text": [
      "100%|██████████| 2000/2000 [00:22<00:00, 90.60it/s]\n"
     ]
    },
    {
     "name": "stdout",
     "output_type": "stream",
     "text": [
      "*******************************Preparing chain 1********************************\n",
      "Positions for the chain 1\n",
      "Using uniform prior\n",
      "\n",
      "\n",
      "For param B :\n",
      "Minimum: 1.69 | Maximum: 9.91\n",
      "\n",
      "For param sigma_s :\n",
      "Minimum: 1.06 | Maximum: 33.96\n",
      "\n",
      "Go!\n"
     ]
    },
    {
     "name": "stderr",
     "output_type": "stream",
     "text": [
      "100%|██████████| 2000/2000 [00:20<00:00, 95.70it/s]\n"
     ]
    },
    {
     "name": "stdout",
     "output_type": "stream",
     "text": [
      "*******************************Preparing chain 2********************************\n",
      "Positions for the chain 2\n",
      "Using uniform prior\n",
      "\n",
      "\n",
      "For param B :\n",
      "Minimum: 1.84 | Maximum: 9.14\n",
      "\n",
      "For param sigma_s :\n",
      "Minimum: 4.31 | Maximum: 34.13\n",
      "\n",
      "Go!\n"
     ]
    },
    {
     "name": "stderr",
     "output_type": "stream",
     "text": [
      "100%|██████████| 2000/2000 [00:22<00:00, 87.02it/s]\n"
     ]
    },
    {
     "name": "stdout",
     "output_type": "stream",
     "text": [
      "*******************************Preparing chain 3********************************\n",
      "Positions for the chain 3\n",
      "Using uniform prior\n",
      "\n",
      "\n",
      "For param B :\n",
      "Minimum: 1.6 | Maximum: 9.95\n",
      "\n",
      "For param sigma_s :\n",
      "Minimum: 5.62 | Maximum: 32.45\n",
      "\n",
      "Go!\n"
     ]
    },
    {
     "name": "stderr",
     "output_type": "stream",
     "text": [
      "100%|██████████| 2000/2000 [00:21<00:00, 93.68it/s]\n"
     ]
    },
    {
     "name": "stdout",
     "output_type": "stream",
     "text": [
      "All chains with the minimum length!\n",
      "Checking convergence...\n",
      "Removed 0.5 as burn in\n",
      "Removed 0.5 as burn in\n",
      "Removed 0.5 as burn in\n",
      "Removed 0.5 as burn in\n",
      "epsilon =  [0.00054746 0.00013469]\n",
      "Did not converge! Running more steps...\n",
      "Running iteration 1\n"
     ]
    },
    {
     "name": "stderr",
     "output_type": "stream",
     "text": [
      "100%|██████████| 1000/1000 [00:10<00:00, 93.38it/s]\n",
      "100%|██████████| 1000/1000 [00:10<00:00, 91.81it/s]\n",
      "100%|██████████| 1000/1000 [00:10<00:00, 93.15it/s]\n",
      "100%|██████████| 1000/1000 [00:11<00:00, 87.37it/s]\n"
     ]
    },
    {
     "name": "stdout",
     "output_type": "stream",
     "text": [
      "epsilon =  [0.00091045 0.00051614]\n",
      "Removed 0.5 as burn in\n",
      "Removed 0.5 as burn in\n",
      "Removed 0.5 as burn in\n",
      "Removed 0.5 as burn in\n",
      "Running iteration 2\n"
     ]
    },
    {
     "name": "stderr",
     "output_type": "stream",
     "text": [
      "100%|██████████| 1000/1000 [00:11<00:00, 90.24it/s]\n",
      "100%|██████████| 1000/1000 [00:10<00:00, 91.87it/s]\n",
      "100%|██████████| 1000/1000 [00:10<00:00, 92.42it/s]\n",
      "100%|██████████| 1000/1000 [00:11<00:00, 88.99it/s]\n"
     ]
    },
    {
     "name": "stdout",
     "output_type": "stream",
     "text": [
      "epsilon =  [0.00068551 0.00019359]\n",
      "Removed 0.5 as burn in\n",
      "Removed 0.5 as burn in\n",
      "Removed 0.5 as burn in\n",
      "Removed 0.5 as burn in\n",
      "Running iteration 3\n"
     ]
    },
    {
     "name": "stderr",
     "output_type": "stream",
     "text": [
      "100%|██████████| 1000/1000 [00:10<00:00, 92.84it/s]\n",
      "100%|██████████| 1000/1000 [00:10<00:00, 93.69it/s]\n",
      "100%|██████████| 1000/1000 [00:10<00:00, 93.16it/s]\n",
      "100%|██████████| 1000/1000 [00:10<00:00, 94.11it/s]\n"
     ]
    },
    {
     "name": "stdout",
     "output_type": "stream",
     "text": [
      "epsilon =  [0.0011862  0.00077877]\n",
      "Removed 0.5 as burn in\n",
      "Removed 0.5 as burn in\n",
      "Removed 0.5 as burn in\n",
      "Removed 0.5 as burn in\n",
      "Running iteration 4\n"
     ]
    },
    {
     "name": "stderr",
     "output_type": "stream",
     "text": [
      "100%|██████████| 1000/1000 [00:10<00:00, 93.33it/s]\n",
      "100%|██████████| 1000/1000 [00:12<00:00, 81.64it/s]\n",
      "100%|██████████| 1000/1000 [00:10<00:00, 93.76it/s]\n",
      "100%|██████████| 1000/1000 [00:10<00:00, 94.80it/s]\n"
     ]
    },
    {
     "name": "stdout",
     "output_type": "stream",
     "text": [
      "epsilon =  [0.00067114 0.00070838]\n",
      "Removed 0.5 as burn in\n",
      "Removed 0.5 as burn in\n",
      "Removed 0.5 as burn in\n",
      "Removed 0.5 as burn in\n",
      "Running iteration 5\n"
     ]
    },
    {
     "name": "stderr",
     "output_type": "stream",
     "text": [
      "100%|██████████| 1000/1000 [00:11<00:00, 86.96it/s]\n",
      "100%|██████████| 1000/1000 [00:11<00:00, 88.68it/s]\n",
      "100%|██████████| 1000/1000 [00:11<00:00, 89.89it/s]\n",
      "100%|██████████| 1000/1000 [00:10<00:00, 94.28it/s]\n"
     ]
    },
    {
     "name": "stdout",
     "output_type": "stream",
     "text": [
      "epsilon =  [0.00083369 0.00113044]\n",
      "Removed 0.5 as burn in\n",
      "Removed 0.5 as burn in\n",
      "Removed 0.5 as burn in\n",
      "Removed 0.5 as burn in\n",
      "Running iteration 6\n"
     ]
    },
    {
     "name": "stderr",
     "output_type": "stream",
     "text": [
      "100%|██████████| 1000/1000 [00:10<00:00, 93.25it/s]\n",
      "100%|██████████| 1000/1000 [00:11<00:00, 89.68it/s]\n",
      "100%|██████████| 1000/1000 [00:10<00:00, 95.52it/s]\n",
      "100%|██████████| 1000/1000 [00:10<00:00, 94.91it/s]\n"
     ]
    },
    {
     "name": "stdout",
     "output_type": "stream",
     "text": [
      "epsilon =  [0.00037785 0.00051151]\n",
      "Removed 0.5 as burn in\n",
      "Removed 0.5 as burn in\n",
      "Removed 0.5 as burn in\n",
      "Removed 0.5 as burn in\n",
      "Running iteration 7\n"
     ]
    },
    {
     "name": "stderr",
     "output_type": "stream",
     "text": [
      "100%|██████████| 1000/1000 [00:10<00:00, 94.99it/s]\n",
      "100%|██████████| 1000/1000 [00:11<00:00, 87.58it/s]\n",
      "100%|██████████| 1000/1000 [00:10<00:00, 93.32it/s]\n",
      "100%|██████████| 1000/1000 [00:10<00:00, 95.06it/s]\n"
     ]
    },
    {
     "name": "stdout",
     "output_type": "stream",
     "text": [
      "epsilon =  [0.0002077  0.00010766]\n",
      "Removed 0.5 as burn in\n",
      "Removed 0.5 as burn in\n",
      "Removed 0.5 as burn in\n",
      "Removed 0.5 as burn in\n",
      "Convergence Achieved!\n",
      "Plotting walkers position over steps...\n",
      "Plotting the correlation matrix...\n",
      "Making a corner plot...\n",
      "Removed no burn in\n",
      "plotting:  ['B', 'sigma_s']\n",
      "Done!\n"
     ]
    }
   ],
   "source": [
    "#Now, we run the chain using this posterior\n",
    "MCMC_smoothAMP.run_MCMC_gelman(gelman_rubins, handle_smooth_amp, loglikelihood_marginalised, new_run=True,\n",
    "    args=loglikelihood_args, a=2.0)"
   ]
  },
  {
   "cell_type": "markdown",
   "metadata": {},
   "source": [
    "Lets take a look at the result"
   ]
  },
  {
   "cell_type": "code",
   "execution_count": 25,
   "metadata": {},
   "outputs": [
    {
     "name": "stdout",
     "output_type": "stream",
     "text": [
      "Removed 0.5 as burn in\n"
     ]
    }
   ],
   "source": [
    "marg_chain = MCMC_smoothAMP.get_chain(handle_smooth_amp, gelman = gelman_rubins)\n",
    "\n",
    "samples_marginalised = MCSamples(samples = marg_chain, \n",
    "                                 names = [\"b1\", \"sigmas\"], labels = [\"b1\", \"sigmas\"],\n",
    "                                 label = \"Marginalised Posterior - 7 Gelman-Rubin iteration ($\\epsilon = 0.0005$)\",\n",
    "                                settings = settings)"
   ]
  },
  {
   "cell_type": "code",
   "execution_count": 26,
   "metadata": {},
   "outputs": [
    {
     "name": "stdout",
     "output_type": "stream",
     "text": [
      "plotting:  ['b1', 'sigmas']\n"
     ]
    },
    {
     "data": {
      "image/png": "[encoded data removed]",
      "text/plain": [
       "<Figure size 576x576 with 3 Axes>"
      ]
     },
     "metadata": {
      "needs_background": "light"
     },
     "output_type": "display_data"
    }
   ],
   "source": [
    "colors = ['blue','red']\n",
    "\n",
    "g = plots.get_subplot_plotter(width_inch=8)\n",
    "g.settings.legend_fontsize = 15\n",
    "g.settings.axes_fontsize = 15\n",
    "g.settings.progress = True\n",
    "g.settings.axes_labelsize = 15\n",
    "g.settings.title_limit = False\n",
    "g.settings.num_plot_contours = 2\n",
    "g.triangle_plot([samples_marginalised],\n",
    "                 line_args = [{'ls':'-','lw':3,'color':colors[1]},\n",
    "                              {'ls':'-','lw':3,'color':colors[0]}],\n",
    "                \n",
    "                 contour_args = [{'ls':'-','lw':3,'color':colors[1]},\n",
    "                              {'ls':'-','lw':3,'color':colors[0]}],\n",
    "                 filled=False,markers=[5,10],marker_args={'ls':'--','lw':3,'color':'black'})"
   ]
  },
  {
   "cell_type": "markdown",
   "metadata": {},
   "source": [
    "We recovered the input parameters! Using the marginalized likelihood only required one iteration of the Gelman-Rubin criteria convergence criteria. Now, let's test without doing the linear marginalization"
   ]
  },
  {
   "cell_type": "markdown",
   "metadata": {},
   "source": [
    "# Sampling the unmarginalized posterior"
   ]
  },
  {
   "cell_type": "code",
   "execution_count": 13,
   "metadata": {},
   "outputs": [
    {
     "name": "stdout",
     "output_type": "stream",
     "text": [
      "Using  NOT_marginalised_smoothAMP file\n"
     ]
    }
   ],
   "source": [
    "#Smooth AMP sampler\n",
    "handle_NOTMARG = 'NOT_marginalised_smoothAMP'\n",
    "notMARG_prior = \"NOT_marginalised_smoothAMP\"\n",
    "MCMC_NotMargSmoothAMP = MCMC_toolkit.MCMC(1,notMARG_prior)\n",
    "MCMC_NotMargSmoothAMP.set_walkers(MCMC_NotMargSmoothAMP.ndim*WALKERS_PER_PARAMETER)\n",
    "flat_prior_NotMargSmoothAMP = MCMC_NotMargSmoothAMP.in_prior"
   ]
  },
  {
   "cell_type": "code",
   "execution_count": 14,
   "metadata": {},
   "outputs": [],
   "source": [
    "#Define the associated log likelihood\n",
    "def NotMarg_Likelihood(theta, flat_prior, DATA, invCOV, kh, ps_smooth_func):\n",
    "\n",
    "    #Apply a flat prior to some parameters\n",
    "    if not(flat_prior(theta)):\n",
    "        return(-np.inf)\n",
    "    \n",
    "    #Get the theory\n",
    "    THEORY = SmoothAmplitude(theta, args = (kh, ps_smooth_func))\n",
    "    diff = THEORY - DATA\n",
    "    \n",
    "    #Compute chi2\n",
    "    chi2 = margLIN.QuadraticForm(diff, diff, invCOV)\n",
    "    \n",
    "    return -0.5*(chi2)"
   ]
  },
  {
   "cell_type": "code",
   "execution_count": 15,
   "metadata": {
    "scrolled": true
   },
   "outputs": [
    {
     "name": "stdout",
     "output_type": "stream",
     "text": [
      "You are considering 2000 as the minimum lenght for the chain\n",
      "Convergence test happens every 1000 steps\n",
      "Number of walkers: 49\n",
      "Number of Parameters: 7\n",
      "Number of parallel chains: 4\n",
      "*******************************Preparing chain 0********************************\n",
      "Positions for the chain 0\n",
      "Using uniform prior\n",
      "\n",
      "\n",
      "For param B :\n",
      "Minimum: 1.25 | Maximum: 9.81\n",
      "\n",
      "For param sigma_s :\n",
      "Minimum: 1.18 | Maximum: 34.75\n",
      "\n",
      "For param a1 :\n",
      "Minimum: -0.1 | Maximum: 0.1\n",
      "\n",
      "For param a2 :\n",
      "Minimum: -0.1 | Maximum: 0.09\n",
      "\n",
      "For param a3 :\n",
      "Minimum: -0.1 | Maximum: 0.1\n",
      "\n",
      "For param a4 :\n",
      "Minimum: -0.1 | Maximum: 0.09\n",
      "\n",
      "For param a5 :\n",
      "Minimum: -0.1 | Maximum: 0.1\n",
      "\n",
      "Go!\n"
     ]
    },
    {
     "name": "stderr",
     "output_type": "stream",
     "text": [
      "100%|██████████| 2000/2000 [00:12<00:00, 159.34it/s]\n"
     ]
    },
    {
     "name": "stdout",
     "output_type": "stream",
     "text": [
      "*******************************Preparing chain 1********************************\n",
      "Positions for the chain 1\n",
      "Using uniform prior\n",
      "\n",
      "\n",
      "For param B :\n",
      "Minimum: 1.15 | Maximum: 9.94\n",
      "\n",
      "For param sigma_s :\n",
      "Minimum: 0.07 | Maximum: 34.55\n",
      "\n",
      "For param a1 :\n",
      "Minimum: -0.1 | Maximum: 0.09\n",
      "\n",
      "For param a2 :\n",
      "Minimum: -0.1 | Maximum: 0.1\n",
      "\n",
      "For param a3 :\n",
      "Minimum: -0.1 | Maximum: 0.09\n",
      "\n",
      "For param a4 :\n",
      "Minimum: -0.09 | Maximum: 0.1\n",
      "\n",
      "For param a5 :\n",
      "Minimum: -0.1 | Maximum: 0.1\n",
      "\n",
      "Go!\n"
     ]
    },
    {
     "name": "stderr",
     "output_type": "stream",
     "text": [
      "100%|██████████| 2000/2000 [00:12<00:00, 157.55it/s]\n"
     ]
    },
    {
     "name": "stdout",
     "output_type": "stream",
     "text": [
      "*******************************Preparing chain 2********************************\n",
      "Positions for the chain 2\n",
      "Using uniform prior\n",
      "\n",
      "\n",
      "For param B :\n",
      "Minimum: 1.32 | Maximum: 9.99\n",
      "\n",
      "For param sigma_s :\n",
      "Minimum: 0.16 | Maximum: 34.68\n",
      "\n",
      "For param a1 :\n",
      "Minimum: -0.1 | Maximum: 0.09\n",
      "\n",
      "For param a2 :\n",
      "Minimum: -0.1 | Maximum: 0.1\n",
      "\n",
      "For param a3 :\n",
      "Minimum: -0.1 | Maximum: 0.1\n",
      "\n",
      "For param a4 :\n",
      "Minimum: -0.1 | Maximum: 0.1\n",
      "\n",
      "For param a5 :\n",
      "Minimum: -0.09 | Maximum: 0.1\n",
      "\n",
      "Go!\n"
     ]
    },
    {
     "name": "stderr",
     "output_type": "stream",
     "text": [
      "100%|██████████| 2000/2000 [00:12<00:00, 156.08it/s]\n"
     ]
    },
    {
     "name": "stdout",
     "output_type": "stream",
     "text": [
      "*******************************Preparing chain 3********************************\n",
      "Positions for the chain 3\n",
      "Using uniform prior\n",
      "\n",
      "\n",
      "For param B :\n",
      "Minimum: 1.27 | Maximum: 9.91\n",
      "\n",
      "For param sigma_s :\n",
      "Minimum: 1.56 | Maximum: 34.62\n",
      "\n",
      "For param a1 :\n",
      "Minimum: -0.09 | Maximum: 0.09\n",
      "\n",
      "For param a2 :\n",
      "Minimum: -0.1 | Maximum: 0.09\n",
      "\n",
      "For param a3 :\n",
      "Minimum: -0.1 | Maximum: 0.1\n",
      "\n",
      "For param a4 :\n",
      "Minimum: -0.1 | Maximum: 0.1\n",
      "\n",
      "For param a5 :\n",
      "Minimum: -0.1 | Maximum: 0.1\n",
      "\n",
      "Go!\n"
     ]
    },
    {
     "name": "stderr",
     "output_type": "stream",
     "text": [
      "100%|██████████| 2000/2000 [00:12<00:00, 160.85it/s]\n"
     ]
    },
    {
     "name": "stdout",
     "output_type": "stream",
     "text": [
      "All chains with the minimum length!\n",
      "Checking convergence...\n",
      "Removed 0.5 as burn in\n",
      "Removed 0.5 as burn in\n",
      "Removed 0.5 as burn in\n",
      "Removed 0.5 as burn in\n",
      "epsilon =  [0.32901066 0.24267882 0.29312866 0.32750429 0.35507844 0.34045432\n",
      " 0.3034854 ]\n",
      "Did not converge! Running more steps...\n",
      "Running iteration 1\n"
     ]
    },
    {
     "name": "stderr",
     "output_type": "stream",
     "text": [
      "100%|██████████| 1000/1000 [00:07<00:00, 135.14it/s]\n",
      "100%|██████████| 1000/1000 [00:06<00:00, 164.30it/s]\n",
      "100%|██████████| 1000/1000 [00:05<00:00, 167.23it/s]\n",
      "100%|██████████| 1000/1000 [00:06<00:00, 165.36it/s]\n"
     ]
    },
    {
     "name": "stdout",
     "output_type": "stream",
     "text": [
      "epsilon =  [0.08923025 0.07871154 0.08773632 0.09565072 0.09887598 0.09452902\n",
      " 0.08496884]\n",
      "Removed 0.5 as burn in\n",
      "Removed 0.5 as burn in\n",
      "Removed 0.5 as burn in\n",
      "Removed 0.5 as burn in\n",
      "Running iteration 2\n"
     ]
    },
    {
     "name": "stderr",
     "output_type": "stream",
     "text": [
      "100%|██████████| 1000/1000 [00:06<00:00, 157.44it/s]\n",
      "100%|██████████| 1000/1000 [00:06<00:00, 160.84it/s]\n",
      "100%|██████████| 1000/1000 [00:06<00:00, 164.23it/s]\n",
      "100%|██████████| 1000/1000 [00:06<00:00, 166.07it/s]\n"
     ]
    },
    {
     "name": "stdout",
     "output_type": "stream",
     "text": [
      "epsilon =  [0.04323746 0.03879693 0.04440315 0.04691982 0.04786054 0.04574596\n",
      " 0.04117178]\n",
      "Removed 0.5 as burn in\n",
      "Removed 0.5 as burn in\n",
      "Removed 0.5 as burn in\n",
      "Removed 0.5 as burn in\n",
      "Running iteration 3\n"
     ]
    },
    {
     "name": "stderr",
     "output_type": "stream",
     "text": [
      "100%|██████████| 1000/1000 [00:07<00:00, 141.03it/s]\n",
      "100%|██████████| 1000/1000 [00:07<00:00, 136.35it/s]\n",
      "100%|██████████| 1000/1000 [00:07<00:00, 142.23it/s]\n",
      "100%|██████████| 1000/1000 [00:06<00:00, 148.77it/s]\n"
     ]
    },
    {
     "name": "stdout",
     "output_type": "stream",
     "text": [
      "epsilon =  [0.03346205 0.02582637 0.03058024 0.03274208 0.03483881 0.03352865\n",
      " 0.03025463]\n",
      "Removed 0.5 as burn in\n",
      "Removed 0.5 as burn in\n",
      "Removed 0.5 as burn in\n",
      "Removed 0.5 as burn in\n",
      "Running iteration 4\n"
     ]
    },
    {
     "name": "stderr",
     "output_type": "stream",
     "text": [
      "100%|██████████| 1000/1000 [00:06<00:00, 147.21it/s]\n",
      "100%|██████████| 1000/1000 [00:06<00:00, 156.11it/s]\n",
      "100%|██████████| 1000/1000 [00:06<00:00, 151.83it/s]\n",
      "100%|██████████| 1000/1000 [00:06<00:00, 154.28it/s]\n"
     ]
    },
    {
     "name": "stdout",
     "output_type": "stream",
     "text": [
      "epsilon =  [0.02282297 0.01613639 0.02051888 0.02199933 0.02382266 0.02269932\n",
      " 0.02009897]\n",
      "Removed 0.5 as burn in\n",
      "Removed 0.5 as burn in\n",
      "Removed 0.5 as burn in\n",
      "Removed 0.5 as burn in\n",
      "Running iteration 5\n"
     ]
    },
    {
     "name": "stderr",
     "output_type": "stream",
     "text": [
      "100%|██████████| 1000/1000 [00:06<00:00, 161.07it/s]\n",
      "100%|██████████| 1000/1000 [00:06<00:00, 160.35it/s]\n",
      "100%|██████████| 1000/1000 [00:06<00:00, 162.35it/s]\n",
      "100%|██████████| 1000/1000 [00:06<00:00, 160.36it/s]\n"
     ]
    },
    {
     "name": "stdout",
     "output_type": "stream",
     "text": [
      "epsilon =  [0.01420378 0.01055408 0.0131581  0.01405097 0.01489948 0.01422681\n",
      " 0.01270576]\n",
      "Removed 0.5 as burn in\n",
      "Removed 0.5 as burn in\n",
      "Removed 0.5 as burn in\n",
      "Removed 0.5 as burn in\n",
      "Running iteration 6\n"
     ]
    },
    {
     "name": "stderr",
     "output_type": "stream",
     "text": [
      "100%|██████████| 1000/1000 [00:06<00:00, 158.61it/s]\n",
      "100%|██████████| 1000/1000 [00:06<00:00, 161.03it/s]\n",
      "100%|██████████| 1000/1000 [00:06<00:00, 146.42it/s]\n",
      "100%|██████████| 1000/1000 [00:06<00:00, 155.00it/s]\n"
     ]
    },
    {
     "name": "stdout",
     "output_type": "stream",
     "text": [
      "epsilon =  [0.0111878  0.00899317 0.00920802 0.01026343 0.011358   0.01100498\n",
      " 0.01002159]\n",
      "Removed 0.5 as burn in\n",
      "Removed 0.5 as burn in\n",
      "Removed 0.5 as burn in\n",
      "Removed 0.5 as burn in\n",
      "Running iteration 7\n"
     ]
    },
    {
     "name": "stderr",
     "output_type": "stream",
     "text": [
      "100%|██████████| 1000/1000 [00:06<00:00, 160.28it/s]\n",
      "100%|██████████| 1000/1000 [00:06<00:00, 160.12it/s]\n",
      "100%|██████████| 1000/1000 [00:06<00:00, 146.39it/s]\n",
      "100%|██████████| 1000/1000 [00:06<00:00, 158.75it/s]\n"
     ]
    },
    {
     "name": "stdout",
     "output_type": "stream",
     "text": [
      "epsilon =  [0.00689783 0.00615203 0.00559192 0.00634742 0.0070065  0.00689214\n",
      " 0.00649473]\n",
      "Removed 0.5 as burn in\n",
      "Removed 0.5 as burn in\n",
      "Removed 0.5 as burn in\n",
      "Removed 0.5 as burn in\n",
      "Running iteration 8\n"
     ]
    },
    {
     "name": "stderr",
     "output_type": "stream",
     "text": [
      "100%|██████████| 1000/1000 [00:06<00:00, 160.07it/s]\n",
      "100%|██████████| 1000/1000 [00:06<00:00, 163.29it/s]\n",
      "100%|██████████| 1000/1000 [00:06<00:00, 164.40it/s]\n",
      "100%|██████████| 1000/1000 [00:06<00:00, 164.05it/s]\n"
     ]
    },
    {
     "name": "stdout",
     "output_type": "stream",
     "text": [
      "epsilon =  [0.00528127 0.00476073 0.00428045 0.00489234 0.00533953 0.00533356\n",
      " 0.0052027 ]\n",
      "Removed 0.5 as burn in\n",
      "Removed 0.5 as burn in\n",
      "Removed 0.5 as burn in\n",
      "Removed 0.5 as burn in\n",
      "Running iteration 9\n"
     ]
    },
    {
     "name": "stderr",
     "output_type": "stream",
     "text": [
      "100%|██████████| 1000/1000 [00:07<00:00, 138.61it/s]\n",
      "100%|██████████| 1000/1000 [00:07<00:00, 132.64it/s]\n",
      "100%|██████████| 1000/1000 [00:06<00:00, 161.14it/s]\n",
      "100%|██████████| 1000/1000 [00:06<00:00, 162.96it/s]\n"
     ]
    },
    {
     "name": "stdout",
     "output_type": "stream",
     "text": [
      "epsilon =  [0.0040711  0.00410747 0.00328569 0.0036617  0.00396462 0.00399006\n",
      " 0.0039243 ]\n",
      "Removed 0.5 as burn in\n",
      "Removed 0.5 as burn in\n",
      "Removed 0.5 as burn in\n",
      "Removed 0.5 as burn in\n",
      "Running iteration 10\n"
     ]
    },
    {
     "name": "stderr",
     "output_type": "stream",
     "text": [
      "100%|██████████| 1000/1000 [00:06<00:00, 160.99it/s]\n",
      "100%|██████████| 1000/1000 [00:06<00:00, 151.60it/s]\n",
      "100%|██████████| 1000/1000 [00:06<00:00, 157.41it/s]\n",
      "100%|██████████| 1000/1000 [00:06<00:00, 162.36it/s]\n"
     ]
    },
    {
     "name": "stdout",
     "output_type": "stream",
     "text": [
      "epsilon =  [0.00294411 0.00320682 0.00246138 0.00268496 0.00286635 0.00284728\n",
      " 0.00272308]\n",
      "Removed 0.5 as burn in\n",
      "Removed 0.5 as burn in\n",
      "Removed 0.5 as burn in\n",
      "Removed 0.5 as burn in\n",
      "Running iteration 11\n"
     ]
    },
    {
     "name": "stderr",
     "output_type": "stream",
     "text": [
      "100%|██████████| 1000/1000 [00:06<00:00, 160.50it/s]\n",
      "100%|██████████| 1000/1000 [00:06<00:00, 162.53it/s]\n",
      "100%|██████████| 1000/1000 [00:06<00:00, 164.10it/s]\n",
      "100%|██████████| 1000/1000 [00:06<00:00, 162.40it/s]\n"
     ]
    },
    {
     "name": "stdout",
     "output_type": "stream",
     "text": [
      "epsilon =  [0.00197981 0.00214786 0.00163891 0.00181056 0.00192596 0.00191028\n",
      " 0.00184203]\n",
      "Removed 0.5 as burn in\n",
      "Removed 0.5 as burn in\n",
      "Removed 0.5 as burn in\n",
      "Removed 0.5 as burn in\n",
      "Running iteration 12\n"
     ]
    },
    {
     "name": "stderr",
     "output_type": "stream",
     "text": [
      "100%|██████████| 1000/1000 [00:06<00:00, 164.15it/s]\n",
      "100%|██████████| 1000/1000 [00:06<00:00, 162.00it/s]\n",
      "100%|██████████| 1000/1000 [00:06<00:00, 164.35it/s]\n",
      "100%|██████████| 1000/1000 [00:05<00:00, 166.71it/s]\n"
     ]
    },
    {
     "name": "stdout",
     "output_type": "stream",
     "text": [
      "epsilon =  [0.00244593 0.00282991 0.00196192 0.00221224 0.00235505 0.00239003\n",
      " 0.00238954]\n",
      "Removed 0.5 as burn in\n",
      "Removed 0.5 as burn in\n",
      "Removed 0.5 as burn in\n",
      "Removed 0.5 as burn in\n",
      "Running iteration 13\n"
     ]
    },
    {
     "name": "stderr",
     "output_type": "stream",
     "text": [
      "100%|██████████| 1000/1000 [00:06<00:00, 163.37it/s]\n",
      "100%|██████████| 1000/1000 [00:06<00:00, 160.33it/s]\n",
      "100%|██████████| 1000/1000 [00:06<00:00, 163.58it/s]\n",
      "100%|██████████| 1000/1000 [00:06<00:00, 160.25it/s]\n"
     ]
    },
    {
     "name": "stdout",
     "output_type": "stream",
     "text": [
      "epsilon =  [0.00223484 0.00269339 0.0019217  0.00213685 0.00220479 0.00222989\n",
      " 0.00220517]\n",
      "Removed 0.5 as burn in\n",
      "Removed 0.5 as burn in\n",
      "Removed 0.5 as burn in\n",
      "Removed 0.5 as burn in\n",
      "Running iteration 14\n"
     ]
    },
    {
     "name": "stderr",
     "output_type": "stream",
     "text": [
      "100%|██████████| 1000/1000 [00:06<00:00, 162.50it/s]\n",
      "100%|██████████| 1000/1000 [00:06<00:00, 162.13it/s]\n",
      "100%|██████████| 1000/1000 [00:06<00:00, 160.44it/s]\n",
      "100%|██████████| 1000/1000 [00:06<00:00, 165.54it/s]\n"
     ]
    },
    {
     "name": "stdout",
     "output_type": "stream",
     "text": [
      "epsilon =  [0.00125988 0.00186031 0.00106705 0.0012052  0.00123195 0.00127242\n",
      " 0.0013023 ]\n",
      "Removed 0.5 as burn in\n",
      "Removed 0.5 as burn in\n",
      "Removed 0.5 as burn in\n",
      "Removed 0.5 as burn in\n",
      "Running iteration 15\n"
     ]
    },
    {
     "name": "stderr",
     "output_type": "stream",
     "text": [
      "100%|██████████| 1000/1000 [00:06<00:00, 154.16it/s]\n",
      "100%|██████████| 1000/1000 [00:06<00:00, 160.40it/s]\n",
      "100%|██████████| 1000/1000 [00:06<00:00, 159.05it/s]\n",
      "100%|██████████| 1000/1000 [00:06<00:00, 161.69it/s]\n"
     ]
    },
    {
     "name": "stdout",
     "output_type": "stream",
     "text": [
      "epsilon =  [0.00097368 0.00144444 0.00090337 0.0010091  0.00101461 0.00103336\n",
      " 0.00104376]\n",
      "Removed 0.5 as burn in\n",
      "Removed 0.5 as burn in\n",
      "Removed 0.5 as burn in\n",
      "Removed 0.5 as burn in\n",
      "Running iteration 16\n"
     ]
    },
    {
     "name": "stderr",
     "output_type": "stream",
     "text": [
      "100%|██████████| 1000/1000 [00:06<00:00, 154.41it/s]\n",
      "100%|██████████| 1000/1000 [00:06<00:00, 159.64it/s]\n",
      "100%|██████████| 1000/1000 [00:06<00:00, 162.91it/s]\n",
      "100%|██████████| 1000/1000 [00:06<00:00, 157.50it/s]\n"
     ]
    },
    {
     "name": "stdout",
     "output_type": "stream",
     "text": [
      "epsilon =  [0.00067991 0.00113259 0.00070364 0.0007533  0.00072568 0.00075188\n",
      " 0.00078899]\n",
      "Removed 0.5 as burn in\n",
      "Removed 0.5 as burn in\n",
      "Removed 0.5 as burn in\n",
      "Removed 0.5 as burn in\n",
      "Running iteration 17\n"
     ]
    },
    {
     "name": "stderr",
     "output_type": "stream",
     "text": [
      "100%|██████████| 1000/1000 [00:07<00:00, 137.37it/s]\n",
      "100%|██████████| 1000/1000 [00:06<00:00, 155.61it/s]\n",
      "100%|██████████| 1000/1000 [00:06<00:00, 162.95it/s]\n",
      "100%|██████████| 1000/1000 [00:06<00:00, 163.02it/s]\n"
     ]
    },
    {
     "name": "stdout",
     "output_type": "stream",
     "text": [
      "epsilon =  [0.00076438 0.0014836  0.00092357 0.00093451 0.00084128 0.00089129\n",
      " 0.00095636]\n",
      "Removed 0.5 as burn in\n",
      "Removed 0.5 as burn in\n",
      "Removed 0.5 as burn in\n",
      "Removed 0.5 as burn in\n",
      "Running iteration 18\n"
     ]
    },
    {
     "name": "stderr",
     "output_type": "stream",
     "text": [
      "100%|██████████| 1000/1000 [00:06<00:00, 161.54it/s]\n",
      "100%|██████████| 1000/1000 [00:06<00:00, 154.60it/s]\n",
      "100%|██████████| 1000/1000 [00:06<00:00, 163.33it/s]\n",
      "100%|██████████| 1000/1000 [00:06<00:00, 160.98it/s]\n"
     ]
    },
    {
     "name": "stdout",
     "output_type": "stream",
     "text": [
      "epsilon =  [0.00072991 0.00155013 0.00076709 0.00080938 0.00077389 0.00082436\n",
      " 0.00087348]\n",
      "Removed 0.5 as burn in\n",
      "Removed 0.5 as burn in\n",
      "Removed 0.5 as burn in\n",
      "Removed 0.5 as burn in\n",
      "Running iteration 19\n"
     ]
    },
    {
     "name": "stderr",
     "output_type": "stream",
     "text": [
      "100%|██████████| 1000/1000 [00:06<00:00, 149.46it/s]\n",
      "100%|██████████| 1000/1000 [00:06<00:00, 151.24it/s]\n",
      "100%|██████████| 1000/1000 [00:06<00:00, 157.13it/s]\n",
      "100%|██████████| 1000/1000 [00:06<00:00, 162.40it/s]\n"
     ]
    },
    {
     "name": "stdout",
     "output_type": "stream",
     "text": [
      "epsilon =  [0.00079349 0.00133665 0.000649   0.00074829 0.00079027 0.00085374\n",
      " 0.00092698]\n",
      "Removed 0.5 as burn in\n",
      "Removed 0.5 as burn in\n",
      "Removed 0.5 as burn in\n",
      "Removed 0.5 as burn in\n",
      "Running iteration 20\n"
     ]
    },
    {
     "name": "stderr",
     "output_type": "stream",
     "text": [
      "100%|██████████| 1000/1000 [00:06<00:00, 159.60it/s]\n",
      "100%|██████████| 1000/1000 [00:06<00:00, 158.67it/s]\n",
      "100%|██████████| 1000/1000 [00:06<00:00, 160.40it/s]\n",
      "100%|██████████| 1000/1000 [00:06<00:00, 158.29it/s]\n"
     ]
    },
    {
     "name": "stdout",
     "output_type": "stream",
     "text": [
      "epsilon =  [0.00087032 0.00099856 0.00065119 0.00077029 0.00084344 0.00090833\n",
      " 0.00099724]\n",
      "Removed 0.5 as burn in\n",
      "Removed 0.5 as burn in\n",
      "Removed 0.5 as burn in\n",
      "Removed 0.5 as burn in\n",
      "Running iteration 21\n"
     ]
    },
    {
     "name": "stderr",
     "output_type": "stream",
     "text": [
      "100%|██████████| 1000/1000 [00:06<00:00, 161.55it/s]\n",
      "100%|██████████| 1000/1000 [00:06<00:00, 159.50it/s]\n",
      "100%|██████████| 1000/1000 [00:06<00:00, 154.95it/s]\n",
      "100%|██████████| 1000/1000 [00:06<00:00, 154.21it/s]\n"
     ]
    },
    {
     "name": "stdout",
     "output_type": "stream",
     "text": [
      "epsilon =  [0.00071078 0.00055048 0.00044327 0.00056593 0.00066993 0.00071781\n",
      " 0.0007994 ]\n",
      "Removed 0.5 as burn in\n",
      "Removed 0.5 as burn in\n",
      "Removed 0.5 as burn in\n",
      "Removed 0.5 as burn in\n",
      "Running iteration 22\n"
     ]
    },
    {
     "name": "stderr",
     "output_type": "stream",
     "text": [
      "100%|██████████| 1000/1000 [00:06<00:00, 148.04it/s]\n",
      "100%|██████████| 1000/1000 [00:06<00:00, 158.37it/s]\n",
      "100%|██████████| 1000/1000 [00:06<00:00, 159.71it/s]\n",
      "100%|██████████| 1000/1000 [00:06<00:00, 144.09it/s]\n"
     ]
    },
    {
     "name": "stdout",
     "output_type": "stream",
     "text": [
      "epsilon =  [0.00079066 0.00057543 0.00052369 0.00066227 0.00076986 0.0008053\n",
      " 0.00086127]\n",
      "Removed 0.5 as burn in\n",
      "Removed 0.5 as burn in\n",
      "Removed 0.5 as burn in\n",
      "Removed 0.5 as burn in\n",
      "Running iteration 23\n"
     ]
    },
    {
     "name": "stderr",
     "output_type": "stream",
     "text": [
      "100%|██████████| 1000/1000 [00:06<00:00, 152.77it/s]\n",
      "100%|██████████| 1000/1000 [00:06<00:00, 154.48it/s]\n",
      "100%|██████████| 1000/1000 [00:07<00:00, 136.52it/s]\n",
      "100%|██████████| 1000/1000 [00:06<00:00, 154.38it/s]\n"
     ]
    },
    {
     "name": "stdout",
     "output_type": "stream",
     "text": [
      "epsilon =  [0.0007468  0.00075824 0.00059573 0.00072521 0.00079683 0.00082013\n",
      " 0.00085269]\n",
      "Removed 0.5 as burn in\n",
      "Removed 0.5 as burn in\n",
      "Removed 0.5 as burn in\n",
      "Removed 0.5 as burn in\n",
      "Running iteration 24\n"
     ]
    },
    {
     "name": "stderr",
     "output_type": "stream",
     "text": [
      "100%|██████████| 1000/1000 [00:06<00:00, 151.30it/s]\n",
      "100%|██████████| 1000/1000 [00:06<00:00, 150.91it/s]\n",
      "100%|██████████| 1000/1000 [00:06<00:00, 158.35it/s]\n",
      "100%|██████████| 1000/1000 [00:06<00:00, 159.55it/s]\n"
     ]
    },
    {
     "name": "stdout",
     "output_type": "stream",
     "text": [
      "epsilon =  [0.00067871 0.00085268 0.00062515 0.00073129 0.0007737  0.00077392\n",
      " 0.00076559]\n",
      "Removed 0.5 as burn in\n",
      "Removed 0.5 as burn in\n",
      "Removed 0.5 as burn in\n",
      "Removed 0.5 as burn in\n",
      "Running iteration 25\n"
     ]
    },
    {
     "name": "stderr",
     "output_type": "stream",
     "text": [
      "100%|██████████| 1000/1000 [00:06<00:00, 159.45it/s]\n",
      "100%|██████████| 1000/1000 [00:06<00:00, 161.32it/s]\n",
      "100%|██████████| 1000/1000 [00:06<00:00, 152.04it/s]\n",
      "100%|██████████| 1000/1000 [00:06<00:00, 161.10it/s]\n"
     ]
    },
    {
     "name": "stdout",
     "output_type": "stream",
     "text": [
      "epsilon =  [0.00056426 0.00080621 0.00064474 0.00069733 0.00069065 0.00067768\n",
      " 0.00065054]\n",
      "Removed 0.5 as burn in\n",
      "Removed 0.5 as burn in\n",
      "Removed 0.5 as burn in\n",
      "Removed 0.5 as burn in\n",
      "Running iteration 26\n"
     ]
    },
    {
     "name": "stderr",
     "output_type": "stream",
     "text": [
      "100%|██████████| 1000/1000 [00:06<00:00, 160.35it/s]\n",
      "100%|██████████| 1000/1000 [00:06<00:00, 161.55it/s]\n",
      "100%|██████████| 1000/1000 [00:06<00:00, 161.36it/s]\n",
      "100%|██████████| 1000/1000 [00:07<00:00, 126.83it/s]\n"
     ]
    },
    {
     "name": "stdout",
     "output_type": "stream",
     "text": [
      "epsilon =  [0.00027973 0.00059859 0.0003716  0.00039397 0.00037716 0.00035705\n",
      " 0.00032326]\n",
      "Removed 0.5 as burn in\n",
      "Removed 0.5 as burn in\n",
      "Removed 0.5 as burn in\n",
      "Removed 0.5 as burn in\n",
      "Running iteration 27\n"
     ]
    },
    {
     "name": "stderr",
     "output_type": "stream",
     "text": [
      "100%|██████████| 1000/1000 [00:08<00:00, 116.22it/s]\n",
      "100%|██████████| 1000/1000 [00:06<00:00, 143.28it/s]\n",
      "100%|██████████| 1000/1000 [00:06<00:00, 159.51it/s]\n",
      "100%|██████████| 1000/1000 [00:06<00:00, 152.52it/s]\n"
     ]
    },
    {
     "name": "stdout",
     "output_type": "stream",
     "text": [
      "epsilon =  [0.0001531  0.0003366  0.00014911 0.00017749 0.00019121 0.00018756\n",
      " 0.00018586]\n",
      "Removed 0.5 as burn in\n",
      "Removed 0.5 as burn in\n",
      "Removed 0.5 as burn in\n",
      "Removed 0.5 as burn in\n",
      "Convergence Achieved!\n",
      "Plotting walkers position over steps...\n",
      "Plotting the correlation matrix...\n",
      "Making a corner plot...\n",
      "Removed no burn in\n",
      "plotting:  ['B', 'sigma_s']\n",
      "plotting:  ['B', 'a1']\n",
      "plotting:  ['B', 'a2']\n",
      "plotting:  ['B', 'a3']\n",
      "plotting:  ['B', 'a4']\n",
      "plotting:  ['B', 'a5']\n",
      "plotting:  ['sigma_s', 'a1']\n",
      "plotting:  ['sigma_s', 'a2']\n",
      "plotting:  ['sigma_s', 'a3']\n",
      "plotting:  ['sigma_s', 'a4']\n",
      "plotting:  ['sigma_s', 'a5']\n",
      "plotting:  ['a1', 'a2']\n",
      "plotting:  ['a1', 'a3']\n",
      "plotting:  ['a1', 'a4']\n",
      "plotting:  ['a1', 'a5']\n",
      "plotting:  ['a2', 'a3']\n",
      "plotting:  ['a2', 'a4']\n",
      "plotting:  ['a2', 'a5']\n",
      "plotting:  ['a3', 'a4']\n",
      "plotting:  ['a3', 'a5']\n",
      "plotting:  ['a4', 'a5']\n",
      "Done!\n"
     ]
    }
   ],
   "source": [
    "MCMC_NotMargSmoothAMP.run_MCMC_gelman(gelman_rubins, handle_NOTMARG, NotMarg_Likelihood, new_run=True,\n",
    "    args=(flat_prior_NotMargSmoothAMP, fake_data, np.linalg.inv(fake_COV), k_array, ps_smooth_func), a=2.0)"
   ]
  },
  {
   "cell_type": "code",
   "execution_count": 24,
   "metadata": {},
   "outputs": [
    {
     "name": "stdout",
     "output_type": "stream",
     "text": [
      "Removed 0.5 as burn in\n"
     ]
    }
   ],
   "source": [
    "chain_NotMarg = MCMC_NotMargSmoothAMP.get_chain(handle = handle_NOTMARG, gelman = gelman_rubins)\n",
    "samples_NotMarginalised = MCSamples(samples = chain_NotMarg, \n",
    "names = [\"b1\", \"sigmas\", \"a1\", \"a2\", \"a3\", \"a4\", \"a5\"], \n",
    "labels = [\"b1\", \"sigmas\", \"a1\", \"a2\", \"a3\", \"a4\", \"a5\"],\n",
    "label = \"Not marginalized posterior - 27 Gelman-Rubin iterations ($\\epsilon = 0.0005$)\", settings = settings)"
   ]
  },
  {
   "cell_type": "code",
   "execution_count": 17,
   "metadata": {},
   "outputs": [
    {
     "name": "stdout",
     "output_type": "stream",
     "text": [
      "plotting:  ['b1', 'sigmas']\n",
      "plotting:  ['b1', 'a1']\n",
      "plotting:  ['b1', 'a2']\n",
      "plotting:  ['b1', 'a3']\n",
      "plotting:  ['b1', 'a4']\n",
      "plotting:  ['b1', 'a5']\n",
      "plotting:  ['sigmas', 'a1']\n",
      "plotting:  ['sigmas', 'a2']\n",
      "plotting:  ['sigmas', 'a3']\n",
      "plotting:  ['sigmas', 'a4']\n",
      "plotting:  ['sigmas', 'a5']\n",
      "plotting:  ['a1', 'a2']\n",
      "plotting:  ['a1', 'a3']\n",
      "plotting:  ['a1', 'a4']\n",
      "plotting:  ['a1', 'a5']\n",
      "plotting:  ['a2', 'a3']\n",
      "plotting:  ['a2', 'a4']\n",
      "plotting:  ['a2', 'a5']\n",
      "plotting:  ['a3', 'a4']\n",
      "plotting:  ['a3', 'a5']\n",
      "plotting:  ['a4', 'a5']\n"
     ]
    },
    {
     "data": {
      "image/png": "[encoded data removed]",
      "text/plain": [
       "<Figure size 576x576 with 28 Axes>"
      ]
     },
     "metadata": {
      "needs_background": "light"
     },
     "output_type": "display_data"
    }
   ],
   "source": [
    "colors = [\"black\"]\n",
    "\n",
    "g = plots.get_subplot_plotter(width_inch=8)\n",
    "g.settings.legend_fontsize = 15\n",
    "g.settings.axes_fontsize = 15\n",
    "g.settings.progress = True\n",
    "g.settings.axes_labelsize = 15\n",
    "g.settings.title_limit = False\n",
    "g.settings.num_plot_contours = 2\n",
    "g.triangle_plot([samples_NotMarginalised],\n",
    "                 line_args = [{'ls':'-','lw':3,'color':colors[0]}],\n",
    "                \n",
    "                 contour_args = [{'ls':'-','lw':3,'color':colors[0]}],\n",
    "                 filled=True,markers=[5,10, 1e-7,1e-7, 1e-4, 1e-4, 1e-9],\n",
    "                marker_args={'ls':'-','lw':3,'color':'black'})"
   ]
  },
  {
   "cell_type": "markdown",
   "metadata": {},
   "source": [
    "We also recovered the input parameters for the non-marginalized case, but it took 3 Gelman-Rubin iterations. Finally, let's compare the posteriors"
   ]
  },
  {
   "cell_type": "markdown",
   "metadata": {},
   "source": [
    "# Comparing results"
   ]
  },
  {
   "cell_type": "code",
   "execution_count": 27,
   "metadata": {},
   "outputs": [
    {
     "name": "stdout",
     "output_type": "stream",
     "text": [
      "plotting:  ['b1', 'sigmas']\n"
     ]
    },
    {
     "data": {
      "image/png": "[encoded data removed]",
      "text/plain": [
       "<Figure size 576x576 with 3 Axes>"
      ]
     },
     "metadata": {
      "needs_background": "light"
     },
     "output_type": "display_data"
    }
   ],
   "source": [
    "colors = ['blue','black']\n",
    "\n",
    "g = plots.get_subplot_plotter(width_inch=8)\n",
    "g.settings.legend_fontsize = 15\n",
    "g.settings.axes_fontsize = 15\n",
    "g.settings.progress = True\n",
    "g.settings.axes_labelsize = 15\n",
    "g.settings.title_limit = False\n",
    "g.settings.num_plot_contours = 2\n",
    "g.triangle_plot([samples_marginalised,samples_NotMarginalised],[\"b1\",\"sigmas\"],\n",
    "                 line_args = [{'ls':'-','lw':3,'color':colors[1]},\n",
    "                              {'ls':'-','lw':3,'color':colors[0]}],\n",
    "                \n",
    "                 contour_args = [{'ls':'-','lw':3,'color':colors[1]},\n",
    "                              {'ls':'-','lw':3,'color':colors[0]}],\n",
    "                 filled=False,markers=[5,10],marker_args={'ls':'--','lw':3,'color':'black'})\n",
    "g.export(\"marginalised_vs_nonmarginalised.png\")"
   ]
  },
  {
   "cell_type": "code",
   "execution_count": null,
   "metadata": {},
   "outputs": [],
   "source": []
  }
 ],
 "metadata": {
  "interpreter": {
   "hash": "2b0c819ea03d81929968d080a9738c39ea4bd5071b41fa0b6522b9d582cdb500"
  },
  "kernelspec": {
   "display_name": "Python 3",
   "language": "python",
   "name": "python3"
  },
  "language_info": {
   "codemirror_mode": {
    "name": "ipython",
    "version": 3
   },
   "file_extension": ".py",
   "mimetype": "text/x-python",
   "name": "python",
   "nbconvert_exporter": "python",
   "pygments_lexer": "ipython3",
   "version": "3.8.8"
  }
 },
 "nbformat": 4,
 "nbformat_minor": 2
}
