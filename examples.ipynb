{
 "cells": [
  {
   "cell_type": "markdown",
   "metadata": {},
   "source": [
    "# Loading libraries, data and a model"
   ]
  },
  {
   "cell_type": "code",
   "execution_count": 1,
   "metadata": {},
   "outputs": [],
   "source": [
    "import numpy as np\n",
    "import matplotlib.pyplot as plt\n",
    "from scipy.interpolate import InterpolatedUnivariateSpline\n",
    "%matplotlib inline\n",
    "import MCMC as MCMC_toolkit\n",
    "import emcee\n",
    "from tqdm import tqdm\n",
    "import marginalise_likelihood as margLIN\n",
    "from getdist import MCSamples, plots\n",
    "\n",
    "settings = {\n",
    "'ignore_rows':0.5,\n",
    "'fine_bins_2D':1000, \n",
    "'smooth_scale_1D':0.5,\n",
    "'smooth_scale_2D':0.5\n",
    "}"
   ]
  },
  {
   "cell_type": "code",
   "execution_count": 2,
   "metadata": {},
   "outputs": [],
   "source": [
    "WALKERS_PER_PARAMETER = 7\n",
    "\n",
    "#Info for convergence - smoothAMP\n",
    "gelman_rubins = {}\n",
    "gelman_rubins['N'] = 4 #Number of parallel chains\n",
    "gelman_rubins['epsilon'] = 0.01 #Threshold for convergence\n",
    "gelman_rubins['min_length'] = 1000 #Minimum length. All convergence tests are done after this \n",
    "gelman_rubins['convergence_steps'] = 1000 #Convergence condition is computed every this step values\n",
    "gelman_rubins['initial'] = 'uniform_prior' #Method to set the walkers initial position"
   ]
  },
  {
   "cell_type": "markdown",
   "metadata": {},
   "source": [
    "# Ideas and definitions"
   ]
  },
  {
   "cell_type": "markdown",
   "metadata": {},
   "source": [
    "The module marginalise_likelihood performs an analytical marginalisation over linear parameters appearing in the Likelihood. If the Likelihood is linear in some parameters, it means that the theoretical model can be splitted in the following way:\n",
    "\n",
    "$$\n",
    "P^{(\\rm t)} = P^{\\rm t}_{\\rm const}(\\{c_i\\}) + \\sum_i \\theta_i P^{\\rm t}_{lin, i}(\\{c_i\\}) \\;,\n",
    "$$\n",
    "\n",
    "where $C$ is the covariance matrix and $\\{\\theta_i\\}$, $\\{c_i\\}$ are the linear and non-linear parameters contributing to the model, respectively. By plugging this into the expression for the Likelihood:\n",
    "\n",
    "$$\n",
    "\\mathcal{L}(\\mathrm{data}|\\{\\theta_i\\ , c_i\\}) = \\mathrm{Exp} \\left[ -\\frac{1}{2} \\left(P^{\\mathrm d} - P^{\\mathrm t}\\right) \\cdot C^{-1}\\left(P^{\\mathrm d} - P^{\\mathrm t}\\right) ^{T}\\right]\\;,\n",
    "$$\n",
    "\n",
    "where $P^{\\mathrm d}$ is the data array. After some algebra (see notes), one can rewrite the above expression as:\n",
    "\n",
    "$$\n",
    "\\mathcal{L}(\\mathrm{data}|\\{\\theta_i\\ , c_i\\}) = \\mathrm{Exp} \\left[-\\frac{1}{2}\\sum_{i,j} \\theta_i \\mathbf{\\mathcal{A} }_{ij} \\theta_j + \\sum_i \\theta_i \\mathbf{\\mathcal{B}}_i + \\mathbf{\\mathcal{C}}\\right]\\;,\n",
    "$$\n",
    "where we introduced $\\star$ to represent the quadratic form $A\\star B = A\\cdot C^{-1} B^{T}$. The matrices above are defined as:\n",
    "$$\n",
    "\\begin{align}\n",
    "\\mathbf{\\mathcal{A}}_{ij} &=& P^{\\rm t}_{lin, i}\\star P^{\\rm t}_{lin, j}\\;,\\\\\n",
    "\\mathbf{\\mathcal{B}}_{i}  &=& -\\frac{1}{2} \\left(P^{\\rm t}_{\\mathrm{const}}\\star P^{\\rm t}_{\\mathrm{lin},i} - P^{\\rm d}\\star P^{\\rm t}_{\\mathrm{lin},i} - P^{\\rm t}_{\\mathrm{lin},i}\\star P^{\\rm d} + P^{\\rm t}_{\\mathrm{lin},i}\\star P^{\\rm t}_{\\mathrm{const}} \\right)\\;,\\\\\n",
    "\\mathbf{\\mathcal{C}} &=& -\\frac{1}{2} \\left( P^{\\rm d}\\star P^{\\rm d} - P^{\\rm d}\\star P^{\\rm t}_{\\mathrm{const}} - P^{\\rm t}_{\\mathrm{const}}\\star P^{\\rm d} + P^{\\rm t}_{\\mathrm{const}}\\star P^{\\rm t}_{\\mathrm{const}} \\right)\\;.\n",
    "\\end{align}\n",
    "$$\n",
    "The integral over $\\theta_i$  is now straightforward and will produce the marginalised Likelihood, $\\mathcal{L}(\\mathrm{data}|\\{c_i\\})$. The result is:\n",
    "$$\n",
    "\\mathcal{L}(\\mathrm{data}|\\{c_i\\}) = \\int d\\vec{\\theta}\\mathrm{Exp} \\left[-\\frac{1}{2}\\sum_{i,j} \\theta_i \\mathbf{\\mathcal{A} }_{ij} \\theta_j + \\sum_i \\theta_i \\mathbf{\\mathcal{B}}_i + \\mathbf{\\mathcal{C}}\\right] = (2\\pi)^{n} \\mathrm{Exp}\\left[\\frac{1}{2} \\mathbf{\\mathcal{B}}\\cdot\\mathbf{\\mathcal{A}}^{-1}\\cdot\\mathbf{\\mathcal{B}} + \\mathbf{\\mathcal{C}} - \\frac{1}{2}\\log\\det \\mathbf{\\mathcal{A}} \\right]\\;.\n",
    "$$\n",
    "Using the Likelihood above it is possible to marginalise over fewer parameters, what can improve the sampling speed and converngence. In what follows, I will show how it can be used in practice.\n"
   ]
  },
  {
   "cell_type": "markdown",
   "metadata": {},
   "source": [
    "# Example 1 - Galaxy Power Spectrum"
   ]
  },
  {
   "cell_type": "markdown",
   "metadata": {},
   "source": [
    "A common template used in Cosmology to model the smooth part of the galaxy power spectrum is:"
   ]
  },
  {
   "cell_type": "markdown",
   "metadata": {},
   "source": [
    "$$\n",
    "P_g^{\\mathrm{nw}}(k)=B^2 P^{\\mathrm{nw}}(k) \\frac{1}{\\left(1+k^2 \\Sigma_s^2 / 2\\right)^2}+\\frac{a_1}{k^3}+\\frac{a_2}{k^2}+\\frac{a_3}{k}+a_4+a_5 k^2\n",
    "$$"
   ]
  },
  {
   "cell_type": "markdown",
   "metadata": {},
   "source": [
    "The $P^{\\rm nw}(k)$ is a pre-calculated curve, which I will load. Without marginalising the parameters, we would need to sample \n",
    "$$\n",
    "\\left\\{B, \\Sigma_s, a_1, a_2, a_3, a_4, a_5\\right\\}\\;.\n",
    "$$\n",
    "However, since the $a_i's$ appears linearly in the model, they can be marginalised over. What we will do them is to generate some fake data and try to recover $B$ and $\\Sigma_s$ in two ways. The first way will be using the linear maginalization code, in which we remove the $a_i's$ terms from the sampling. In the second case, we try to sample the whole set of parameters."
   ]
  },
  {
   "cell_type": "markdown",
   "metadata": {},
   "source": [
    "## Generating data and implementing the model"
   ]
  },
  {
   "cell_type": "code",
   "execution_count": 3,
   "metadata": {},
   "outputs": [],
   "source": [
    "def SmoothAmplitude(params, args, h = 0.676, kh_norm = 0.005, mean_P0 = 13622):\n",
    "    \n",
    "    #Unpack the parameters\n",
    "    B, sigma_s, a0 ,a1 , a2, a3, a4 = params\n",
    "    \n",
    "    #Load external info\n",
    "    kh, ps_smooth_func = args\n",
    "    \n",
    "    #Values to normalize the broadband parameters\n",
    "    k_norm = kh_norm/h # [h/Mpc]\n",
    "\n",
    "    #Non-wiggle linear\n",
    "    P_nw_linear = ps_smooth_func(kh)\n",
    "\n",
    "    #Compute the velocity damping term\n",
    "    F_fog = 1.0/(1.0 + 0.5*kh**2*sigma_s**2)**2\n",
    "    \n",
    "    #Theory - Broadband\n",
    "    invk = k_norm/kh\n",
    "    theory_broadband = a0*invk**3 + a1*invk**2 + a2*invk + a3 + a4*(kh/k_norm)**2\n",
    "\n",
    "    #Compute the full non-wiggle part\n",
    "    P_nw = B**2*P_nw_linear*F_fog + theory_broadband*mean_P0**2\n",
    "\n",
    "    return P_nw"
   ]
  },
  {
   "cell_type": "code",
   "execution_count": 4,
   "metadata": {},
   "outputs": [],
   "source": [
    "#Loading pre-calculated data\n",
    "power_spec = np.loadtxt(\"BOSS_z1_new.txt\")\n",
    "kh, ps_smooth_points, O_lin_points, ps_lin_points = power_spec[:,0], power_spec[:,1],\\\n",
    "power_spec[:,2],power_spec[:,3]\n",
    "\n",
    "ps_smooth_func = InterpolatedUnivariateSpline(kh, ps_smooth_points, ext = 3)\n",
    "\n",
    "#Generating some fake data\n",
    "dk = 0.005\n",
    "k_array = np.arange(0.005,0.2,dk)\n",
    "B = 5\n",
    "sigma_s = 10\n",
    "a0        = 1e-7\n",
    "a1        = 1e-7\n",
    "a2        = 1e-4\n",
    "a3        = 1e-4\n",
    "a4        = 1e-9\n",
    "fake_data = SmoothAmplitude([B, sigma_s, a0 ,a1 , a2, a3, a4], args = (k_array, ps_smooth_func))\n",
    "\n",
    "#Generating a Gaussian covariance matrix\n",
    "L = 2000 # Mpc/h\n",
    "vf = (2.0*np.pi)**3/L**3\n",
    "Nk = 0.5*(4.0*np.pi*k_array**2*dk/vf)\n",
    "nbar = 1e-4\n",
    "\n",
    "N_A = 1 + 1/(nbar*fake_data)\n",
    "COV_diag = 1/Nk*2*fake_data**2*N_A**2\n",
    "fake_COV = np.zeros((len(k_array), len(k_array)))\n",
    "np.fill_diagonal(fake_COV,COV_diag)"
   ]
  },
  {
   "cell_type": "code",
   "execution_count": 5,
   "metadata": {},
   "outputs": [
    {
     "data": {
      "text/plain": [
       "Text(0, 0.5, '$k\\\\times P(k)$ $\\\\mathrm{[Mpc/h]}^2$')"
      ]
     },
     "execution_count": 5,
     "metadata": {},
     "output_type": "execute_result"
    },
    {
     "data": {
      "image/png": "[encoded data removed]",
      "text/plain": [
       "<Figure size 864x504 with 1 Axes>"
      ]
     },
     "metadata": {
      "needs_background": "light"
     },
     "output_type": "display_data"
    }
   ],
   "source": [
    "plt.figure(figsize = (12,7))\n",
    "plt.errorbar(k_array, k_array*fake_data, yerr = k_array*np.diag(fake_COV)**0.5, label = \"DATA\", marker = \"o\")\n",
    "plt.xlim((0.005,0.2))\n",
    "plt.legend()\n",
    "plt.xlabel(r\"$k$ [h/Mpc]\",size = 20)\n",
    "plt.ylabel(r\"$k\\times P(k)$ $\\mathrm{[Mpc/h]}^2$\",size = 20)"
   ]
  },
  {
   "cell_type": "markdown",
   "metadata": {},
   "source": [
    "# Sampling the marginalised posterior"
   ]
  },
  {
   "cell_type": "markdown",
   "metadata": {},
   "source": [
    "Here is how you can define the marginalised posterior explicitly:"
   ]
  },
  {
   "cell_type": "markdown",
   "metadata": {},
   "source": [
    "$$\n",
    "\\mathcal{L}(\\mathrm{data}|\\{c_i\\}) = \\int d\\vec{\\theta}\\mathrm{Exp} \\left[-\\frac{1}{2}\\sum_{i,j} \\theta_i \\mathbf{\\mathcal{A} }_{ij} \\theta_j + \\sum_i \\theta_i \\mathbf{\\mathcal{B}}_i + \\mathbf{\\mathcal{C}}\\right] = (2\\pi)^{n} \\mathrm{Exp}\\left[\\frac{1}{2} \\mathbf{\\mathcal{B}}\\cdot\\mathbf{\\mathcal{A}}^{-1}\\cdot\\mathbf{\\mathcal{B}} - \\frac{1}{2}\\log\\det \\mathbf{\\mathcal{A}}  + \\mathbf{\\mathcal{C}} \\right]\\;.\n",
    "$$"
   ]
  },
  {
   "cell_type": "code",
   "execution_count": 6,
   "metadata": {},
   "outputs": [],
   "source": [
    "def loglikelihood_marginalised(theta, theta_marginalised,flat_prior, linear_indices, \n",
    "                               model, data, inv_cov, theory_args = None):\n",
    "    \"\"\"Compute the marginalised likelihood\n",
    "\n",
    "    Args:\n",
    "        theta (list): A list with the remaining free parameters in the model. These paramters change\n",
    "        on every step of the MCMC analysis.\n",
    "        \n",
    "        theta_marginalised (list): Some exemplary values for the linear parameters you marginalised\n",
    "        . They are used to get the constant and linear part on every step. These parameters are fi-\n",
    "        xed, they do not vary on every step of the MCMC analysis.\n",
    "        \n",
    "        flat_prior (function): The flat prior for the model.\n",
    "        \n",
    "        linear_indices (list): A list with the indices where the linear parameters you are margina-\n",
    "        lising occur in the total param array\n",
    "       \n",
    "        model (function): The theoretical model being used. It must be implemented such that its in-\n",
    "        puts are of the form: model(params, args(optional)).\n",
    "        \n",
    "        data (np.array): The data vector.\n",
    "        \n",
    "        inv_cov (np.array): The inverse of the covariance matrix\n",
    "        \n",
    "        theory_args (_type_, optional): _description_. Defaults to None.\n",
    "\n",
    "    Returns:\n",
    "        float: The output for the marginalised log likelihood\n",
    "    \"\"\"\n",
    "     #Apply a flat prior to some parameters\n",
    "    if not(flat_prior(theta)):\n",
    "        return(-np.inf)\n",
    "    \n",
    "    params = np.hstack((theta, theta_marginalised))\n",
    "    \n",
    "    #Get linear terms\n",
    "    linear_operators_list = margLIN.get_lin_operator_list(model, params, linear_indices, args = theory_args)\n",
    "    \n",
    "    #Get the constant part\n",
    "    theory_const = margLIN.get_const_part(model, params, linear_indices, args = theory_args)\n",
    "    \n",
    "    #Compute the matrices\n",
    "    A_ij = margLIN.compute_Aij(linear_operators_list, inv_cov)\n",
    "    \n",
    "    B_i  = margLIN.compute_Bi(linear_operators_list, theory_const, data, inv_cov)\n",
    "    \n",
    "    C    = margLIN.compute_C(theory_const, data, inv_cov)\n",
    "    \n",
    "    #Get the inverse of A\n",
    "    invAij = np.linalg.inv(A_ij)\n",
    "    \n",
    "    #Get the determinant of A\n",
    "    detAij = np.linalg.det(A_ij)\n",
    "    \n",
    "    #Compute the marginalised likelihood\n",
    "    term1 = margLIN.QuadraticForm(B_i, B_i, invAij); term2 = np.log(detAij)\n",
    "    return (0.5*term1 - 0.5*term2 + C)[0][0]"
   ]
  },
  {
   "cell_type": "markdown",
   "metadata": {},
   "source": [
    "Notice that we have although we are marginalizing over some parameters, the code still require some value for these parameters. You can chose any value within their prior. It is used only for examplary calculations. We also need to give as input the indices of these parameters in the total parameter space"
   ]
  },
  {
   "cell_type": "code",
   "execution_count": 7,
   "metadata": {
    "code_folding": []
   },
   "outputs": [],
   "source": [
    "#Args for the marginalised likelihood\n",
    "theta_marginalised = [1e-5, 1e-5, 1e-5, 1e-5, 1e-5] #Random values for the parameters I will marginalise over\n",
    "linear_indices = [2,3,4,5,6] #Their position in the total parameter vector"
   ]
  },
  {
   "cell_type": "code",
   "execution_count": 8,
   "metadata": {},
   "outputs": [
    {
     "name": "stdout",
     "output_type": "stream",
     "text": [
      "Using  marginalised_smoothAMP file\n"
     ]
    }
   ],
   "source": [
    "#Smooth AMP sampler\n",
    "handle_smooth_amp = 'marginalised_smoothAMP' #Handle to save the chains\n",
    "prior_name_smoothAMP = 'marginalised_smoothAMP'\n",
    "MCMC_smoothAMP = MCMC_toolkit.MCMC(1,prior_name_smoothAMP)\n",
    "MCMC_smoothAMP.set_walkers(MCMC_smoothAMP.ndim*WALKERS_PER_PARAMETER)\n",
    "flat_prior_smoothAMP = MCMC_smoothAMP.in_prior"
   ]
  },
  {
   "cell_type": "code",
   "execution_count": 9,
   "metadata": {},
   "outputs": [],
   "source": [
    "#Args used to compute the model\n",
    "theory_args = (k_array, ps_smooth_func)\n",
    "\n",
    "#Args for the loglikelihood\n",
    "loglikelihood_args = (theta_marginalised, flat_prior_smoothAMP, linear_indices, \n",
    "                      SmoothAmplitude, fake_data, np.linalg.inv(fake_COV), theory_args)"
   ]
  },
  {
   "cell_type": "code",
   "execution_count": 10,
   "metadata": {
    "scrolled": true
   },
   "outputs": [
    {
     "name": "stdout",
     "output_type": "stream",
     "text": [
      "You are considering 1000 as the minimum lenght for the chain\n",
      "Convergence test happens every 1000 steps\n",
      "Number of walkers: 14\n",
      "Number of Parameters: 2\n",
      "Number of parallel chains: 4\n",
      "*******************************Preparing chain 0********************************\n",
      "Positions for the chain 0\n",
      "Using uniform prior\n",
      "\n",
      "\n",
      "For param B :\n",
      "Minimum: 2.1 | Maximum: 9.94\n",
      "\n",
      "For param sigma_s :\n",
      "Minimum: 3.86 | Maximum: 30.47\n",
      "\n",
      "Go!\n"
     ]
    },
    {
     "name": "stderr",
     "output_type": "stream",
     "text": [
      "100%|██████████| 1000/1000 [00:10<00:00, 91.80it/s]\n"
     ]
    },
    {
     "name": "stdout",
     "output_type": "stream",
     "text": [
      "*******************************Preparing chain 1********************************\n",
      "Positions for the chain 1\n",
      "Using uniform prior\n",
      "\n",
      "\n",
      "For param B :\n",
      "Minimum: 1.53 | Maximum: 7.48\n",
      "\n",
      "For param sigma_s :\n",
      "Minimum: 2.45 | Maximum: 32.92\n",
      "\n",
      "Go!\n"
     ]
    },
    {
     "name": "stderr",
     "output_type": "stream",
     "text": [
      "100%|██████████| 1000/1000 [00:11<00:00, 89.09it/s]\n"
     ]
    },
    {
     "name": "stdout",
     "output_type": "stream",
     "text": [
      "*******************************Preparing chain 2********************************\n",
      "Positions for the chain 2\n",
      "Using uniform prior\n",
      "\n",
      "\n",
      "For param B :\n",
      "Minimum: 1.55 | Maximum: 9.15\n",
      "\n",
      "For param sigma_s :\n",
      "Minimum: 1.17 | Maximum: 31.91\n",
      "\n",
      "Go!\n"
     ]
    },
    {
     "name": "stderr",
     "output_type": "stream",
     "text": [
      "100%|██████████| 1000/1000 [00:10<00:00, 91.64it/s]\n"
     ]
    },
    {
     "name": "stdout",
     "output_type": "stream",
     "text": [
      "*******************************Preparing chain 3********************************\n",
      "Positions for the chain 3\n",
      "Using uniform prior\n",
      "\n",
      "\n",
      "For param B :\n",
      "Minimum: 2.53 | Maximum: 9.69\n",
      "\n",
      "For param sigma_s :\n",
      "Minimum: 3.26 | Maximum: 28.66\n",
      "\n",
      "Go!\n"
     ]
    },
    {
     "name": "stderr",
     "output_type": "stream",
     "text": [
      "100%|██████████| 1000/1000 [00:10<00:00, 92.13it/s]\n"
     ]
    },
    {
     "name": "stdout",
     "output_type": "stream",
     "text": [
      "All chains with the minimum length!\n",
      "Checking convergence...\n",
      "Removed 0.5 as burn in\n",
      "Removed 0.5 as burn in\n",
      "Removed 0.5 as burn in\n",
      "Removed 0.5 as burn in\n",
      "epsilon =  [0.00686462 0.0041269 ]\n",
      "Convergence Achieved!\n",
      "Plotting walkers position over steps...\n",
      "Plotting the correlation matrix...\n",
      "Making a corner plot...\n",
      "Removed no burn in\n",
      "plotting:  ['B', 'sigma_s']\n",
      "Done!\n"
     ]
    }
   ],
   "source": [
    "#Now, we run the chain using this posterior\n",
    "MCMC_smoothAMP.run_MCMC_gelman(gelman_rubins, handle_smooth_amp, loglikelihood_marginalised, new_run=True,\n",
    "    args=loglikelihood_args, a=2.0)"
   ]
  },
  {
   "cell_type": "markdown",
   "metadata": {},
   "source": [
    "Lets take a look at the result"
   ]
  },
  {
   "cell_type": "code",
   "execution_count": 11,
   "metadata": {},
   "outputs": [
    {
     "name": "stdout",
     "output_type": "stream",
     "text": [
      "Removed 0.5 as burn in\n"
     ]
    }
   ],
   "source": [
    "marg_chain = MCMC_smoothAMP.get_chain(handle_smooth_amp, gelman = gelman_rubins)\n",
    "\n",
    "samples_marginalised = MCSamples(samples = marg_chain, \n",
    "                                 names = [\"b1\", \"sigmas\"], labels = [\"b1\", \"sigmas\"],\n",
    "                                 label = \"Marginalised Posterior\",\n",
    "                                settings = settings)"
   ]
  },
  {
   "cell_type": "code",
   "execution_count": 12,
   "metadata": {},
   "outputs": [
    {
     "name": "stdout",
     "output_type": "stream",
     "text": [
      "plotting:  ['b1', 'sigmas']\n"
     ]
    },
    {
     "data": {
      "image/png": "[encoded data removed]",
      "text/plain": [
       "<Figure size 576x576 with 3 Axes>"
      ]
     },
     "metadata": {
      "needs_background": "light"
     },
     "output_type": "display_data"
    }
   ],
   "source": [
    "colors = ['blue','red']\n",
    "\n",
    "g = plots.get_subplot_plotter(width_inch=8)\n",
    "g.settings.legend_fontsize = 15\n",
    "g.settings.axes_fontsize = 15\n",
    "g.settings.progress = True\n",
    "g.settings.axes_labelsize = 15\n",
    "g.settings.title_limit = False\n",
    "g.settings.num_plot_contours = 2\n",
    "g.triangle_plot([samples_marginalised],\n",
    "                 line_args = [{'ls':'-','lw':3,'color':colors[1]},\n",
    "                              {'ls':'-','lw':3,'color':colors[0]}],\n",
    "                \n",
    "                 contour_args = [{'ls':'-','lw':3,'color':colors[1]},\n",
    "                              {'ls':'-','lw':3,'color':colors[0]}],\n",
    "                 filled=False,markers=[5,10],marker_args={'ls':'--','lw':3,'color':'black'})"
   ]
  },
  {
   "cell_type": "markdown",
   "metadata": {},
   "source": [
    "We recovered the input paramters! Using the marginalised likelihood took 1.6 minutes, with the Gelman-Rubin criteria converngence criteria, we achieved convergence without the need of further iterations. Now, lets test without doing the linear marginalisation"
   ]
  },
  {
   "cell_type": "markdown",
   "metadata": {},
   "source": [
    "# Sampling the unmarginalized posterior"
   ]
  },
  {
   "cell_type": "code",
   "execution_count": 13,
   "metadata": {},
   "outputs": [
    {
     "name": "stdout",
     "output_type": "stream",
     "text": [
      "Using  NOT_marginalised_smoothAMP file\n"
     ]
    }
   ],
   "source": [
    "#Smooth AMP sampler\n",
    "handle_NOTMARG = 'NOT_marginalised_smoothAMP'\n",
    "notMARG_prior = \"NOT_marginalised_smoothAMP\"\n",
    "MCMC_NotMargSmoothAMP = MCMC_toolkit.MCMC(1,notMARG_prior)\n",
    "MCMC_NotMargSmoothAMP.set_walkers(MCMC_NotMargSmoothAMP.ndim*WALKERS_PER_PARAMETER)\n",
    "flat_prior_NotMargSmoothAMP = MCMC_NotMargSmoothAMP.in_prior"
   ]
  },
  {
   "cell_type": "code",
   "execution_count": 14,
   "metadata": {},
   "outputs": [],
   "source": [
    "#Define the associated log likelihood\n",
    "def NotMarg_Likelihood(theta, flat_prior, DATA, invCOV, kh, ps_smooth_func):\n",
    "\n",
    "    #Apply a flat prior to some parameters\n",
    "    if not(flat_prior(theta)):\n",
    "        return(-np.inf)\n",
    "    \n",
    "    #Get the theory\n",
    "    THEORY = SmoothAmplitude(theta, args = (kh, ps_smooth_func))\n",
    "    diff = THEORY - DATA\n",
    "    \n",
    "    #Compute chi2\n",
    "    chi2 = margLIN.QuadraticForm(diff, diff, invCOV)\n",
    "    \n",
    "    return -0.5*(chi2)"
   ]
  },
  {
   "cell_type": "code",
   "execution_count": 15,
   "metadata": {
    "scrolled": false
   },
   "outputs": [
    {
     "name": "stdout",
     "output_type": "stream",
     "text": [
      "You are considering 1000 as the minimum lenght for the chain\n",
      "Convergence test happens every 1000 steps\n",
      "Number of walkers: 49\n",
      "Number of Parameters: 7\n",
      "Number of parallel chains: 4\n",
      "*******************************Preparing chain 0********************************\n",
      "Positions for the chain 0\n",
      "Using uniform prior\n",
      "\n",
      "\n",
      "For param B :\n",
      "Minimum: 1.47 | Maximum: 9.97\n",
      "\n",
      "For param sigma_s :\n",
      "Minimum: 0.13 | Maximum: 34.99\n",
      "\n",
      "For param a1 :\n",
      "Minimum: -0.1 | Maximum: 0.1\n",
      "\n",
      "For param a2 :\n",
      "Minimum: -0.1 | Maximum: 0.1\n",
      "\n",
      "For param a3 :\n",
      "Minimum: -0.1 | Maximum: 0.09\n",
      "\n",
      "For param a4 :\n",
      "Minimum: -0.1 | Maximum: 0.1\n",
      "\n",
      "For param a5 :\n",
      "Minimum: -0.1 | Maximum: 0.1\n",
      "\n",
      "Go!\n"
     ]
    },
    {
     "name": "stderr",
     "output_type": "stream",
     "text": [
      "100%|██████████| 1000/1000 [00:06<00:00, 151.67it/s]\n"
     ]
    },
    {
     "name": "stdout",
     "output_type": "stream",
     "text": [
      "*******************************Preparing chain 1********************************\n",
      "Positions for the chain 1\n",
      "Using uniform prior\n",
      "\n",
      "\n",
      "For param B :\n",
      "Minimum: 1.11 | Maximum: 9.75\n",
      "\n",
      "For param sigma_s :\n",
      "Minimum: 0.62 | Maximum: 33.53\n",
      "\n",
      "For param a1 :\n",
      "Minimum: -0.1 | Maximum: 0.1\n",
      "\n",
      "For param a2 :\n",
      "Minimum: -0.09 | Maximum: 0.1\n",
      "\n",
      "For param a3 :\n",
      "Minimum: -0.09 | Maximum: 0.08\n",
      "\n",
      "For param a4 :\n",
      "Minimum: -0.1 | Maximum: 0.1\n",
      "\n",
      "For param a5 :\n",
      "Minimum: -0.09 | Maximum: 0.1\n",
      "\n",
      "Go!\n"
     ]
    },
    {
     "name": "stderr",
     "output_type": "stream",
     "text": [
      "100%|██████████| 1000/1000 [00:06<00:00, 155.44it/s]\n"
     ]
    },
    {
     "name": "stdout",
     "output_type": "stream",
     "text": [
      "*******************************Preparing chain 2********************************\n",
      "Positions for the chain 2\n",
      "Using uniform prior\n",
      "\n",
      "\n",
      "For param B :\n",
      "Minimum: 1.16 | Maximum: 9.99\n",
      "\n",
      "For param sigma_s :\n",
      "Minimum: 0.32 | Maximum: 34.96\n",
      "\n",
      "For param a1 :\n",
      "Minimum: -0.1 | Maximum: 0.1\n",
      "\n",
      "For param a2 :\n",
      "Minimum: -0.1 | Maximum: 0.1\n",
      "\n",
      "For param a3 :\n",
      "Minimum: -0.1 | Maximum: 0.1\n",
      "\n",
      "For param a4 :\n",
      "Minimum: -0.1 | Maximum: 0.1\n",
      "\n",
      "For param a5 :\n",
      "Minimum: -0.1 | Maximum: 0.1\n",
      "\n",
      "Go!\n"
     ]
    },
    {
     "name": "stderr",
     "output_type": "stream",
     "text": [
      "100%|██████████| 1000/1000 [00:06<00:00, 159.42it/s]\n"
     ]
    },
    {
     "name": "stdout",
     "output_type": "stream",
     "text": [
      "*******************************Preparing chain 3********************************\n",
      "Positions for the chain 3\n",
      "Using uniform prior\n",
      "\n",
      "\n",
      "For param B :\n",
      "Minimum: 1.13 | Maximum: 9.98\n",
      "\n",
      "For param sigma_s :\n",
      "Minimum: 0.45 | Maximum: 31.74\n",
      "\n",
      "For param a1 :\n",
      "Minimum: -0.1 | Maximum: 0.08\n",
      "\n",
      "For param a2 :\n",
      "Minimum: -0.1 | Maximum: 0.1\n",
      "\n",
      "For param a3 :\n",
      "Minimum: -0.1 | Maximum: 0.09\n",
      "\n",
      "For param a4 :\n",
      "Minimum: -0.1 | Maximum: 0.1\n",
      "\n",
      "For param a5 :\n",
      "Minimum: -0.1 | Maximum: 0.09\n",
      "\n",
      "Go!\n"
     ]
    },
    {
     "name": "stderr",
     "output_type": "stream",
     "text": [
      "100%|██████████| 1000/1000 [00:06<00:00, 153.13it/s]\n"
     ]
    },
    {
     "name": "stdout",
     "output_type": "stream",
     "text": [
      "All chains with the minimum length!\n",
      "Checking convergence...\n",
      "Removed 0.5 as burn in\n",
      "Removed 0.5 as burn in\n",
      "Removed 0.5 as burn in\n",
      "Removed 0.5 as burn in\n",
      "epsilon =  [0.84833131 0.56245452 0.83047897 0.94594434 1.02153658 0.95330133\n",
      " 0.81091863]\n",
      "Did not converge! Running more steps...\n",
      "Running iteration 1\n"
     ]
    },
    {
     "name": "stderr",
     "output_type": "stream",
     "text": [
      "100%|██████████| 1000/1000 [00:06<00:00, 151.09it/s]\n",
      "100%|██████████| 1000/1000 [00:06<00:00, 158.43it/s]\n",
      "100%|██████████| 1000/1000 [00:06<00:00, 152.57it/s]\n",
      "100%|██████████| 1000/1000 [00:06<00:00, 160.87it/s]\n"
     ]
    },
    {
     "name": "stdout",
     "output_type": "stream",
     "text": [
      "epsilon =  [0.17053936 0.13253569 0.17575935 0.19266145 0.20108308 0.19260171\n",
      " 0.17362639]\n",
      "Removed 0.5 as burn in\n",
      "Removed 0.5 as burn in\n",
      "Removed 0.5 as burn in\n",
      "Removed 0.5 as burn in\n",
      "Running iteration 2\n"
     ]
    },
    {
     "name": "stderr",
     "output_type": "stream",
     "text": [
      "100%|██████████| 1000/1000 [00:06<00:00, 150.24it/s]\n",
      "100%|██████████| 1000/1000 [00:06<00:00, 160.03it/s]\n",
      "100%|██████████| 1000/1000 [00:06<00:00, 153.02it/s]\n",
      "100%|██████████| 1000/1000 [00:07<00:00, 137.89it/s]\n"
     ]
    },
    {
     "name": "stdout",
     "output_type": "stream",
     "text": [
      "epsilon =  [0.03023913 0.03392757 0.03185363 0.0342923  0.03508407 0.03269537\n",
      " 0.0278015 ]\n",
      "Removed 0.5 as burn in\n",
      "Removed 0.5 as burn in\n",
      "Removed 0.5 as burn in\n",
      "Removed 0.5 as burn in\n",
      "Running iteration 3\n"
     ]
    },
    {
     "name": "stderr",
     "output_type": "stream",
     "text": [
      "100%|██████████| 1000/1000 [00:06<00:00, 154.27it/s]\n",
      "100%|██████████| 1000/1000 [00:06<00:00, 157.83it/s]\n",
      "100%|██████████| 1000/1000 [00:06<00:00, 159.82it/s]\n",
      "100%|██████████| 1000/1000 [00:06<00:00, 158.89it/s]\n"
     ]
    },
    {
     "name": "stdout",
     "output_type": "stream",
     "text": [
      "epsilon =  [0.01075184 0.0154056  0.01324127 0.01351867 0.012831   0.01178668\n",
      " 0.00981044]\n",
      "Removed 0.5 as burn in\n",
      "Removed 0.5 as burn in\n",
      "Removed 0.5 as burn in\n",
      "Removed 0.5 as burn in\n",
      "Running iteration 4\n"
     ]
    },
    {
     "name": "stderr",
     "output_type": "stream",
     "text": [
      "100%|██████████| 1000/1000 [00:06<00:00, 151.45it/s]\n",
      "100%|██████████| 1000/1000 [00:06<00:00, 154.49it/s]\n",
      "100%|██████████| 1000/1000 [00:06<00:00, 160.31it/s]\n",
      "100%|██████████| 1000/1000 [00:06<00:00, 157.70it/s]\n"
     ]
    },
    {
     "name": "stdout",
     "output_type": "stream",
     "text": [
      "epsilon =  [0.00628248 0.00939881 0.00820909 0.00815821 0.00723649 0.00660495\n",
      " 0.00550441]\n",
      "Removed 0.5 as burn in\n",
      "Removed 0.5 as burn in\n",
      "Removed 0.5 as burn in\n",
      "Removed 0.5 as burn in\n",
      "Convergence Achieved!\n",
      "Plotting walkers position over steps...\n",
      "Plotting the correlation matrix...\n",
      "Making a corner plot...\n",
      "Removed no burn in\n",
      "plotting:  ['B', 'sigma_s']\n",
      "plotting:  ['B', 'a1']\n",
      "plotting:  ['B', 'a2']\n",
      "plotting:  ['B', 'a3']\n",
      "plotting:  ['B', 'a4']\n",
      "plotting:  ['B', 'a5']\n",
      "plotting:  ['sigma_s', 'a1']\n",
      "plotting:  ['sigma_s', 'a2']\n",
      "plotting:  ['sigma_s', 'a3']\n",
      "plotting:  ['sigma_s', 'a4']\n",
      "plotting:  ['sigma_s', 'a5']\n",
      "plotting:  ['a1', 'a2']\n",
      "plotting:  ['a1', 'a3']\n",
      "plotting:  ['a1', 'a4']\n",
      "plotting:  ['a1', 'a5']\n",
      "plotting:  ['a2', 'a3']\n",
      "plotting:  ['a2', 'a4']\n",
      "plotting:  ['a2', 'a5']\n",
      "plotting:  ['a3', 'a4']\n",
      "plotting:  ['a3', 'a5']\n",
      "plotting:  ['a4', 'a5']\n",
      "Done!\n"
     ]
    }
   ],
   "source": [
    "MCMC_NotMargSmoothAMP.run_MCMC_gelman(gelman_rubins, handle_NOTMARG, NotMarg_Likelihood, new_run=True,\n",
    "    args=(flat_prior_NotMargSmoothAMP, fake_data, np.linalg.inv(fake_COV), k_array, ps_smooth_func), a=2.0)"
   ]
  },
  {
   "cell_type": "markdown",
   "metadata": {},
   "source": [
    "# Comparing results"
   ]
  },
  {
   "cell_type": "code",
   "execution_count": 16,
   "metadata": {},
   "outputs": [
    {
     "name": "stdout",
     "output_type": "stream",
     "text": [
      "Removed 0.5 as burn in\n"
     ]
    }
   ],
   "source": [
    "chain_NotMarg = MCMC_NotMargSmoothAMP.get_chain(handle = handle_NOTMARG, gelman = gelman_rubins)\n",
    "samples_NotMarginalised = MCSamples(samples = chain_NotMarg, \n",
    "names = [\"b1\", \"sigmas\", \"a1\", \"a2\", \"a3\", \"a4\", \"a5\"], \n",
    "labels = [\"b1\", \"sigmas\", \"a1\", \"a2\", \"a3\", \"a4\", \"a5\"],\n",
    "label = \"Not marginalized posterior\", settings = settings)"
   ]
  },
  {
   "cell_type": "code",
   "execution_count": 21,
   "metadata": {},
   "outputs": [
    {
     "name": "stdout",
     "output_type": "stream",
     "text": [
      "plotting:  ['b1', 'sigmas']\n"
     ]
    },
    {
     "data": {
      "image/png": "[encoded data removed]",
      "text/plain": [
       "<Figure size 576x576 with 3 Axes>"
      ]
     },
     "metadata": {
      "needs_background": "light"
     },
     "output_type": "display_data"
    }
   ],
   "source": [
    "colors = ['blue','red']\n",
    "\n",
    "g = plots.get_subplot_plotter(width_inch=8)\n",
    "g.settings.legend_fontsize = 15\n",
    "g.settings.axes_fontsize = 15\n",
    "g.settings.progress = True\n",
    "g.settings.axes_labelsize = 15\n",
    "g.settings.title_limit = False\n",
    "g.settings.num_plot_contours = 2\n",
    "g.triangle_plot([samples_marginalised,samples_NotMarginalised],[\"b1\",\"sigmas\"],\n",
    "                 line_args = [{'ls':'-','lw':3,'color':colors[1]},\n",
    "                              {'ls':'-','lw':3,'color':colors[0]}],\n",
    "                \n",
    "                 contour_args = [{'ls':'-','lw':3,'color':colors[1]},\n",
    "                              {'ls':'-','lw':3,'color':colors[0]}],\n",
    "                 filled=False,markers=[5,10],marker_args={'ls':'--','lw':3,'color':'black'})\n",
    "g.export(\"marginalised_vs_nonmarginalised.png\")"
   ]
  },
  {
   "cell_type": "code",
   "execution_count": null,
   "metadata": {},
   "outputs": [],
   "source": []
  }
 ],
 "metadata": {
  "interpreter": {
   "hash": "2b0c819ea03d81929968d080a9738c39ea4bd5071b41fa0b6522b9d582cdb500"
  },
  "kernelspec": {
   "display_name": "Python 3",
   "language": "python",
   "name": "python3"
  },
  "language_info": {
   "codemirror_mode": {
    "name": "ipython",
    "version": 3
   },
   "file_extension": ".py",
   "mimetype": "text/x-python",
   "name": "python",
   "nbconvert_exporter": "python",
   "pygments_lexer": "ipython3",
   "version": "3.8.8"
  }
 },
 "nbformat": 4,
 "nbformat_minor": 2
}
